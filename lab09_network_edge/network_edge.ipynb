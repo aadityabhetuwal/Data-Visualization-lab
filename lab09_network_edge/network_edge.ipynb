{
 "cells": [
  {
   "cell_type": "markdown",
   "metadata": {},
   "source": [
    "## Lab 09 - NodeLink Diagrams"
   ]
  },
  {
   "cell_type": "markdown",
   "metadata": {},
   "source": [
    "#### Used libraries\n",
    "\n",
    "1. **pandas**  \n",
    "    `pip install pandas`\n",
    "\n",
    "1. **plotly**  \n",
    "    `pip install plotly`\n",
    "\n",
    "1. **matplotlib**   \n",
    "    `pip install matplotlib`   \n",
    "    for plotting static graphs  \n",
    "\n",
    "1. **networkx**  \n",
    "    `pip install networkx`  \n",
    "    for creating graph and performing operations on graphs  \n",
    "\n",
    "1. **pyvis**  \n",
    "    `pip install pyvis`  \n",
    "    for creating dynamic trees and graphs"
   ]
  },
  {
   "cell_type": "code",
   "execution_count": 2,
   "metadata": {},
   "outputs": [],
   "source": [
    "# imports\n",
    "import pandas as pd \n",
    "import numpy as np\n",
    "import os\n",
    "\n",
    "import networkx as nx\n",
    "import matplotlib as mpl\n",
    "import matplotlib.pyplot as plt\n",
    "import random"
   ]
  },
  {
   "cell_type": "markdown",
   "metadata": {},
   "source": [
    "The university dataset has many .csv files.\n",
    "\n",
    "For this experiment we will be exploring only the cwurData.csv and timesData.csv"
   ]
  },
  {
   "cell_type": "code",
   "execution_count": 3,
   "metadata": {},
   "outputs": [],
   "source": [
    "def loadCSVData(path):\n",
    "    '''\n",
    "        Function helps load the given path name if it is a CSV file into a DataFrame using pandas\n",
    "    '''\n",
    "    if os.path.splitext(path)[1] == \".csv\": # read only csv files from the dataset\n",
    "        df = pd.read_csv(path, delimiter=',')\n",
    "\n",
    "        return df\n",
    "    return None"
   ]
  },
  {
   "cell_type": "markdown",
   "metadata": {},
   "source": [
    "#### Dataset timesData.csv for other tasks"
   ]
  },
  {
   "cell_type": "code",
   "execution_count": 4,
   "metadata": {},
   "outputs": [
    {
     "name": "stdout",
     "output_type": "stream",
     "text": [
      "<class 'pandas.core.frame.DataFrame'>\n",
      "RangeIndex: 2603 entries, 0 to 2602\n",
      "Data columns (total 14 columns):\n",
      " #   Column                  Non-Null Count  Dtype  \n",
      "---  ------                  --------------  -----  \n",
      " 0   world_rank              2603 non-null   object \n",
      " 1   university_name         2603 non-null   object \n",
      " 2   country                 2603 non-null   object \n",
      " 3   teaching                2603 non-null   float64\n",
      " 4   international           2603 non-null   object \n",
      " 5   research                2603 non-null   float64\n",
      " 6   citations               2603 non-null   float64\n",
      " 7   income                  2603 non-null   object \n",
      " 8   total_score             2603 non-null   object \n",
      " 9   num_students            2544 non-null   object \n",
      " 10  student_staff_ratio     2544 non-null   float64\n",
      " 11  international_students  2536 non-null   object \n",
      " 12  female_male_ratio       2370 non-null   object \n",
      " 13  year                    2603 non-null   int64  \n",
      "dtypes: float64(4), int64(1), object(9)\n",
      "memory usage: 284.8+ KB\n",
      "None\n"
     ]
    }
   ],
   "source": [
    "# loading timesData.csv\n",
    "timesUniData = loadCSVData(\"../world_university_ranking/timesData.csv\")\n",
    "\n",
    "# info on columns\n",
    "print(timesUniData.info())"
   ]
  },
  {
   "cell_type": "code",
   "execution_count": 5,
   "metadata": {},
   "outputs": [
    {
     "data": {
      "text/plain": [
       "world_rank                  0\n",
       "university_name             0\n",
       "country                     0\n",
       "teaching                    0\n",
       "international               0\n",
       "research                    0\n",
       "citations                   0\n",
       "income                      0\n",
       "total_score                 0\n",
       "num_students               59\n",
       "student_staff_ratio        59\n",
       "international_students     67\n",
       "female_male_ratio         233\n",
       "year                        0\n",
       "dtype: int64"
      ]
     },
     "execution_count": 5,
     "metadata": {},
     "output_type": "execute_result"
    }
   ],
   "source": [
    "timesUniData.isnull().sum()"
   ]
  },
  {
   "cell_type": "code",
   "execution_count": 6,
   "metadata": {},
   "outputs": [
    {
     "name": "stdout",
     "output_type": "stream",
     "text": [
      "Dropped 241 NaN values\n",
      "world_rank                0\n",
      "university_name           0\n",
      "country                   0\n",
      "teaching                  0\n",
      "international             0\n",
      "research                  0\n",
      "citations                 0\n",
      "income                    0\n",
      "total_score               0\n",
      "num_students              0\n",
      "student_staff_ratio       0\n",
      "international_students    0\n",
      "female_male_ratio         0\n",
      "year                      0\n",
      "dtype: int64\n"
     ]
    }
   ],
   "source": [
    "before = timesUniData.shape[0]\n",
    "timesUniData = timesUniData.dropna()\n",
    "\n",
    "print(f\"Dropped {before - timesUniData.shape[0]} NaN values\")\n",
    "print(timesUniData.isnull().sum())"
   ]
  },
  {
   "cell_type": "code",
   "execution_count": 7,
   "metadata": {},
   "outputs": [],
   "source": [
    "def parseNumberOfStudents(df : pd.Series) -> list[float]:\n",
    "    if df.dtype == object:\n",
    "        tmp = [item.replace(',', '') for ind, item in df.iteritems() ]\n",
    "        return list(map(float, tmp))\n",
    "    else:\n",
    "        return list(df)\n",
    "\n",
    "def parseGenderRatio(df : pd.Series) -> list[float]:\n",
    "    lst = []\n",
    "    ratio = 0\n",
    "\n",
    "    if df.dtype == object:\n",
    "        for ind, item in df.iteritems():\n",
    "            try:\n",
    "                tmp = list(map(int, item.split(\":\") ) )\n",
    "                lst.append(tmp[0]) \n",
    "            except:\n",
    "                lst.append(0) # no data\n",
    "\n",
    "        return lst\n",
    "    else:\n",
    "        return list(df)\n",
    "\n",
    "# international student is given in the format 27% so we can just remove the % to\n",
    "# convert it into a numeric data type\n",
    "def parseInternationalStudents(df : pd.Series) -> list[float]:\n",
    "    if df.dtype == object:\n",
    "        tmp = [item.replace('%', '') for ind, item in df.iteritems() ]\n",
    "        return list(map(float, tmp))\n",
    "    else:\n",
    "        return list(df)\n",
    "\n",
    "#convert income to float 64\n",
    "def parseObjects(df : pd.Series) -> list[float]:\n",
    "    if df.dtype == object:\n",
    "        tmp = []\n",
    "        mx, mn = -1e9, 1e9\n",
    "\n",
    "        for ind, item  in df.iteritems():\n",
    "            try:\n",
    "                tmp.append(float(item))\n",
    "\n",
    "                if float(item) > mx:\n",
    "                    mx = float(item)\n",
    "                \n",
    "                if float(item) < mn:\n",
    "                    mn = float(item)\n",
    "\n",
    "            except Exception as e:\n",
    "                # assign random value except assign 0\n",
    "                tmp.append(np.random.randint(mn, mx))\n",
    "            \n",
    "        return tmp\n",
    "    else:\n",
    "        return list(df)\n"
   ]
  },
  {
   "cell_type": "code",
   "execution_count": 8,
   "metadata": {},
   "outputs": [
    {
     "name": "stdout",
     "output_type": "stream",
     "text": [
      "<class 'pandas.core.frame.DataFrame'>\n",
      "Int64Index: 2362 entries, 1 to 2602\n",
      "Data columns (total 14 columns):\n",
      " #   Column                  Non-Null Count  Dtype  \n",
      "---  ------                  --------------  -----  \n",
      " 0   world_rank              2362 non-null   object \n",
      " 1   university_name         2362 non-null   object \n",
      " 2   country                 2362 non-null   object \n",
      " 3   teaching                2362 non-null   float64\n",
      " 4   international           2362 non-null   float64\n",
      " 5   research                2362 non-null   float64\n",
      " 6   citations               2362 non-null   float64\n",
      " 7   income                  2362 non-null   float64\n",
      " 8   total_score             2362 non-null   float64\n",
      " 9   num_students            2362 non-null   float64\n",
      " 10  student_staff_ratio     2362 non-null   float64\n",
      " 11  international_students  2362 non-null   float64\n",
      " 12  female_male_ratio       2362 non-null   int64  \n",
      " 13  year                    2362 non-null   int64  \n",
      "dtypes: float64(9), int64(2), object(3)\n",
      "memory usage: 276.8+ KB\n",
      "None\n"
     ]
    }
   ],
   "source": [
    "# here since number of students and gender ratio is given in strings we need to\n",
    "# convert them into numeric types\n",
    "\n",
    "timesUniData.num_students = parseNumberOfStudents(timesUniData.num_students)\n",
    "pd.to_numeric(timesUniData.num_students)\n",
    "\n",
    "timesUniData.female_male_ratio = parseGenderRatio(timesUniData.female_male_ratio)\n",
    "pd.to_numeric(timesUniData.female_male_ratio)\n",
    "\n",
    "timesUniData.international_students = parseInternationalStudents(\n",
    "    timesUniData.international_students)\n",
    "pd.to_numeric(timesUniData.international_students)\n",
    "\n",
    "timesUniData.income = parseObjects(timesUniData.income)\n",
    "pd.to_numeric(timesUniData.income)\n",
    "\n",
    "total_score = parseObjects(timesUniData.total_score)\n",
    "timesUniData.total_score = total_score\n",
    "pd.to_numeric(timesUniData.total_score)\n",
    "\n",
    "timesUniData.international = parseObjects(timesUniData.international)\n",
    "pd.to_numeric(timesUniData.international)\n",
    "\n",
    "print(timesUniData.info())"
   ]
  },
  {
   "cell_type": "code",
   "execution_count": 9,
   "metadata": {},
   "outputs": [
    {
     "name": "stdout",
     "output_type": "stream",
     "text": [
      "<class 'pandas.core.frame.DataFrame'>\n",
      "RangeIndex: 2200 entries, 0 to 2199\n",
      "Data columns (total 14 columns):\n",
      " #   Column                Non-Null Count  Dtype  \n",
      "---  ------                --------------  -----  \n",
      " 0   world_rank            2200 non-null   int64  \n",
      " 1   institution           2200 non-null   object \n",
      " 2   country               2200 non-null   object \n",
      " 3   national_rank         2200 non-null   int64  \n",
      " 4   quality_of_education  2200 non-null   int64  \n",
      " 5   alumni_employment     2200 non-null   int64  \n",
      " 6   quality_of_faculty    2200 non-null   int64  \n",
      " 7   publications          2200 non-null   int64  \n",
      " 8   influence             2200 non-null   int64  \n",
      " 9   citations             2200 non-null   int64  \n",
      " 10  broad_impact          2000 non-null   float64\n",
      " 11  patents               2200 non-null   int64  \n",
      " 12  score                 2200 non-null   float64\n",
      " 13  year                  2200 non-null   int64  \n",
      "dtypes: float64(2), int64(10), object(2)\n",
      "memory usage: 240.8+ KB\n",
      "None\n"
     ]
    }
   ],
   "source": [
    "# file cwurData.csv\n",
    "currUniData = loadCSVData(\"../world_university_ranking/cwurData.csv\")\n",
    "print(currUniData.info())"
   ]
  },
  {
   "cell_type": "code",
   "execution_count": 10,
   "metadata": {},
   "outputs": [
    {
     "data": {
      "text/plain": [
       "world_rank                0\n",
       "institution               0\n",
       "country                   0\n",
       "national_rank             0\n",
       "quality_of_education      0\n",
       "alumni_employment         0\n",
       "quality_of_faculty        0\n",
       "publications              0\n",
       "influence                 0\n",
       "citations                 0\n",
       "broad_impact            200\n",
       "patents                   0\n",
       "score                     0\n",
       "year                      0\n",
       "dtype: int64"
      ]
     },
     "execution_count": 10,
     "metadata": {},
     "output_type": "execute_result"
    }
   ],
   "source": [
    "currUniData.isnull().sum()"
   ]
  },
  {
   "cell_type": "code",
   "execution_count": 11,
   "metadata": {},
   "outputs": [
    {
     "name": "stdout",
     "output_type": "stream",
     "text": [
      "<class 'pandas.core.frame.DataFrame'>\n",
      "RangeIndex: 2200 entries, 0 to 2199\n",
      "Data columns (total 14 columns):\n",
      " #   Column                Non-Null Count  Dtype  \n",
      "---  ------                --------------  -----  \n",
      " 0   world_rank            2200 non-null   int64  \n",
      " 1   institution           2200 non-null   object \n",
      " 2   country               2200 non-null   object \n",
      " 3   national_rank         2200 non-null   int64  \n",
      " 4   quality_of_education  2200 non-null   int64  \n",
      " 5   alumni_employment     2200 non-null   int64  \n",
      " 6   quality_of_faculty    2200 non-null   int64  \n",
      " 7   publications          2200 non-null   int64  \n",
      " 8   influence             2200 non-null   int64  \n",
      " 9   citations             2200 non-null   int64  \n",
      " 10  broad_impact          2000 non-null   float64\n",
      " 11  patents               2200 non-null   int64  \n",
      " 12  score                 2200 non-null   float64\n",
      " 13  year                  2200 non-null   int64  \n",
      "dtypes: float64(2), int64(10), object(2)\n",
      "memory usage: 240.8+ KB\n"
     ]
    }
   ],
   "source": [
    "currUniData.info()"
   ]
  },
  {
   "cell_type": "code",
   "execution_count": 12,
   "metadata": {},
   "outputs": [
    {
     "name": "stdout",
     "output_type": "stream",
     "text": [
      "<class 'pandas.core.frame.DataFrame'>\n",
      "RangeIndex: 4897 entries, 0 to 4896\n",
      "Data columns (total 11 columns):\n",
      " #   Column           Non-Null Count  Dtype  \n",
      "---  ------           --------------  -----  \n",
      " 0   world_rank       4897 non-null   object \n",
      " 1   university_name  4896 non-null   object \n",
      " 2   national_rank    4896 non-null   object \n",
      " 3   total_score      1101 non-null   float64\n",
      " 4   alumni           4896 non-null   float64\n",
      " 5   award            4895 non-null   float64\n",
      " 6   hici             4895 non-null   float64\n",
      " 7   ns               4875 non-null   float64\n",
      " 8   pub              4895 non-null   float64\n",
      " 9   pcp              4895 non-null   float64\n",
      " 10  year             4897 non-null   int64  \n",
      "dtypes: float64(7), int64(1), object(3)\n",
      "memory usage: 421.0+ KB\n",
      "None\n"
     ]
    }
   ],
   "source": [
    "shanghaiData = loadCSVData(\"../world_university_ranking/shanghaiData.csv\")\n",
    "# info on columns\n",
    "print(shanghaiData.info())"
   ]
  },
  {
   "cell_type": "code",
   "execution_count": 13,
   "metadata": {},
   "outputs": [
    {
     "data": {
      "text/plain": [
       "world_rank            0\n",
       "university_name       1\n",
       "national_rank         1\n",
       "total_score        3796\n",
       "alumni                1\n",
       "award                 2\n",
       "hici                  2\n",
       "ns                   22\n",
       "pub                   2\n",
       "pcp                   2\n",
       "year                  0\n",
       "dtype: int64"
      ]
     },
     "execution_count": 13,
     "metadata": {},
     "output_type": "execute_result"
    }
   ],
   "source": [
    "shanghaiData.isnull().sum()"
   ]
  },
  {
   "cell_type": "code",
   "execution_count": 14,
   "metadata": {},
   "outputs": [
    {
     "name": "stdout",
     "output_type": "stream",
     "text": [
      "Dropped 22 NaN values\n",
      "world_rank         0\n",
      "university_name    0\n",
      "national_rank      0\n",
      "alumni             0\n",
      "award              0\n",
      "hici               0\n",
      "ns                 0\n",
      "pub                0\n",
      "pcp                0\n",
      "year               0\n",
      "dtype: int64\n"
     ]
    }
   ],
   "source": [
    "# total score has 3000 misssing values so we just drop the table\n",
    "try:\n",
    "    shanghaiData = shanghaiData.drop(columns='total_score')\n",
    "except Exception as e:\n",
    "    pass\n",
    "\n",
    "before = shanghaiData.shape[0]\n",
    "shanghaiData = shanghaiData.dropna()\n",
    "\n",
    "print(f\"Dropped {before - shanghaiData.shape[0]} NaN values\")\n",
    "print(shanghaiData.isnull().sum())"
   ]
  },
  {
   "cell_type": "code",
   "execution_count": 15,
   "metadata": {},
   "outputs": [
    {
     "name": "stdout",
     "output_type": "stream",
     "text": [
      "<class 'pandas.core.frame.DataFrame'>\n",
      "Int64Index: 4875 entries, 0 to 4896\n",
      "Data columns (total 10 columns):\n",
      " #   Column           Non-Null Count  Dtype  \n",
      "---  ------           --------------  -----  \n",
      " 0   world_rank       4875 non-null   object \n",
      " 1   university_name  4875 non-null   object \n",
      " 2   national_rank    4875 non-null   object \n",
      " 3   alumni           4875 non-null   float64\n",
      " 4   award            4875 non-null   float64\n",
      " 5   hici             4875 non-null   float64\n",
      " 6   ns               4875 non-null   float64\n",
      " 7   pub              4875 non-null   float64\n",
      " 8   pcp              4875 non-null   float64\n",
      " 9   year             4875 non-null   int64  \n",
      "dtypes: float64(6), int64(1), object(3)\n",
      "memory usage: 418.9+ KB\n"
     ]
    }
   ],
   "source": [
    "shanghaiData.info()"
   ]
  },
  {
   "cell_type": "code",
   "execution_count": 16,
   "metadata": {},
   "outputs": [],
   "source": [
    "# function returns a random color\n",
    "def getRandomColor():\n",
    "    return [random.randint(0, 255), random.randint(0, 255), \n",
    "            random.randint(0, 255), max(.2, round(random.random(), 1) ) ]\n",
    "\n",
    "def getRandomColorString(vals = None): \n",
    "    '''\n",
    "        returns random color in rgba\n",
    "    '''\n",
    "    if vals is None:\n",
    "        vals = getRandomColor()\n",
    "    return f\"rgba({vals[0]}, {vals[1]}, {vals[2]}, {vals[3]})\"\n",
    "\n",
    "def createEdgeListData(groupedData, col1, col2, col3):\n",
    "    edgeData = []\n",
    "    attribData = []\n",
    "\n",
    "    for key, row in groupedData.iterrows():\n",
    "        edgeData.append([row[col1], row[col2] ])\n",
    "        attribData.append([row[col3], getRandomColor()])\n",
    "        \n",
    "\n",
    "    return edgeData, attribData"
   ]
  },
  {
   "cell_type": "code",
   "execution_count": 17,
   "metadata": {},
   "outputs": [],
   "source": [
    "# plot 1\n",
    "# graph of 3 quantitative attributes\n",
    "%matplotlib qt \n",
    "\n",
    "def getNUniqueCoutnries(countryList, numC):\n",
    "    cSet = set(countryList)\n",
    "    cList = random.sample(list(cSet), numC)\n",
    "    return cList\n",
    "\n",
    "numC = 4\n",
    "year = 2013\n",
    "uni2013 = timesUniData[timesUniData[\"year\"] == year]\n",
    "\n",
    "countries = getNUniqueCoutnries(uni2013['country'], numC)\n",
    "\n",
    "# filter by columns\n",
    "filteredData = uni2013.query('country in @countries')\n",
    "\n",
    "# group by country and extract only the first five rows\n",
    "groupedData = filteredData.groupby(by='country').apply(lambda x : x[:5])\n",
    "\n",
    "edgeData, attribData = createEdgeListData(groupedData, 'university_name', \n",
    "        'country', 'international')\n",
    "\n",
    "# print(edgeList)\n",
    "graph1 = nx.Graph()\n",
    "\n",
    "for ed, ad in zip(edgeData, attribData):\n",
    "    graph1.add_edge(ed[0], ed[1], weight=ad[0], color=ad[1])\n",
    "\n",
    "colors = list(nx.get_edge_attributes(graph1, 'color').values())\n",
    "weights = nx.get_edge_attributes(graph1, 'weight').values()\n",
    "weights = [i / 10 for i in weights]\n"
   ]
  },
  {
   "cell_type": "code",
   "execution_count": 29,
   "metadata": {},
   "outputs": [],
   "source": [
    "# plot 1\n",
    "# graph of 3 quantitative attributes\n",
    "%matplotlib qt \n",
    "\n",
    "def getNUniqueCoutnries(countryList, numC):\n",
    "    cSet = set(countryList)\n",
    "    cList = random.sample(list(cSet), numC)\n",
    "    return cList\n",
    "\n",
    "numC = 4\n",
    "year = 2013\n",
    "uni2013 = timesUniData[timesUniData[\"year\"] == year]\n",
    "\n",
    "countries = getNUniqueCoutnries(uni2013['country'], numC)\n",
    "\n",
    "# filter by columns\n",
    "filteredData = uni2013.query('country in @countries')\n",
    "\n",
    "# group by country and extract only the first five rows\n",
    "groupedData = filteredData.groupby(by='country').apply(lambda x : x[:5])\n",
    "\n",
    "edgeData, attribData = createEdgeListData(groupedData, 'university_name', \n",
    "        'country', 'international')\n",
    "\n",
    "# print(edgeList)\n",
    "graph1 = nx.Graph()\n",
    "\n",
    "for ed, ad in zip(edgeData, attribData):\n",
    "    graph1.add_edge(ed[0], ed[1], weight=ad[0], color=ad[1])\n",
    "\n",
    "colors = list(nx.get_edge_attributes(graph1, 'color').values())\n",
    "weights = nx.get_edge_attributes(graph1, 'weight').values()\n",
    "weights = [i / 10 for i in weights]\n"
   ]
  },
  {
   "cell_type": "code",
   "execution_count": 32,
   "metadata": {},
   "outputs": [],
   "source": [
    "fig, ax = plt.subplots(figsize=(9, 7))\n",
    "ax.set_title(\"Univeristy with their respective countries with\\nInternational score as weight\", fontsize=14)\n",
    "\n",
    "pos = nx.spring_layout(graph1, k=.8, iterations=20)\n",
    "\n",
    "deg = dict(graph1.degree)\n",
    "\n",
    "plt.axes(ax)\n",
    "nx.draw(graph1, pos=pos,\n",
    "    edge_color=colors, width=weights,\n",
    "    node_size=[v * 100 for v in deg.values()])\n",
    "\n",
    "for node, (x, y) in pos.items():\n",
    "    sz = 18 if(node in countries) else 8\n",
    "    plt.text(x, y, node, fontsize=sz, ha='center', va='center')"
   ]
  },
  {
   "cell_type": "code",
   "execution_count": 31,
   "metadata": {},
   "outputs": [],
   "source": [
    "fig, ax = plt.subplots(figsize=(9, 7))\n",
    "ax.set_title(\"Univeristy with their respective countries with\\nInternational score as weight\", fontsize=14)\n",
    "\n",
    "pos = nx.circular_layout(graph1, scale=2)\n",
    "\n",
    "deg = dict(graph1.degree)\n",
    "\n",
    "plt.axes(ax)\n",
    "nx.draw(graph1, pos=pos,\n",
    "    edge_color=colors, width=weights,\n",
    "    node_size=[v * 100 for v in deg.values()])\n",
    "\n",
    "for node, (x, y) in pos.items():\n",
    "    sz = 18 if(node in countries) else 8\n",
    "    plt.text(x, y, node, fontsize=sz, ha='center', va='center')"
   ]
  },
  {
   "cell_type": "code",
   "execution_count": 21,
   "metadata": {},
   "outputs": [],
   "source": [
    "# plot 2\n",
    "# graph of 3 quantitative attributes quality_of_education, quality_of_faculty, alumni_employment\n",
    "%matplotlib qt \n",
    "\n",
    "\n",
    "numC = 15\n",
    "year = 2012\n",
    "uni2012 = currUniData[currUniData[\"year\"] == year]\n",
    "title = \"Universities with quantitative attributes Quality of Education\\\n",
    "\\nQuality of Faculty and Alumni Employment\"\n",
    "\n",
    "edgeData, attribData = createEdgeListData(uni2012, 'quality_of_education', \n",
    "        'quality_of_faculty', 'alumni_employment')\n",
    "\n",
    "graph2 = nx.Graph()\n",
    "\n",
    "for ed, ad in zip(edgeData, attribData):\n",
    "    graph2.add_edge(ed[0], ed[1], weight=ad[0], color=ad[1])\n",
    "\n",
    "colors = list(nx.get_edge_attributes(graph2, 'color').values())\n",
    "weights = nx.get_edge_attributes(graph2, 'weight').values()\n",
    "weights = [i / 50 for i in weights]\n"
   ]
  },
  {
   "cell_type": "code",
   "execution_count": 33,
   "metadata": {},
   "outputs": [],
   "source": [
    "fig, ax = plt.subplots(figsize=(9, 7))\n",
    "ax.set_title(title, fontsize=14)\n",
    "\n",
    "pos = nx.spiral_layout(graph2, scale=4)\n",
    "\n",
    "plt.axes(ax)\n",
    "nx.draw(graph2, pos = pos, alpha =.7, width = weights,\n",
    "    edge_color = colors, with_labels = True)\n"
   ]
  },
  {
   "cell_type": "code",
   "execution_count": 34,
   "metadata": {},
   "outputs": [],
   "source": [
    "fig, ax = plt.subplots(figsize=(9, 7))\n",
    "ax.set_title(title, fontsize=14)\n",
    "\n",
    "pos = nx.random_layout(graph2)\n",
    "\n",
    "plt.axes(ax)\n",
    "nx.draw(graph2, pos = pos, alpha =.7, width = weights,\n",
    "    edge_color = colors, with_labels = True)"
   ]
  },
  {
   "cell_type": "code",
   "execution_count": 24,
   "metadata": {},
   "outputs": [],
   "source": [
    "# plot 1\n",
    "# graph of 3 quantitative attributes\n",
    "\n",
    "def getNUniqueCoutnries(countryList, numC):\n",
    "    cSet = set(countryList)\n",
    "    cList = random.sample(list(cSet), numC)\n",
    "    return cList\n",
    "\n",
    "numC = 4\n",
    "year = 2013\n",
    "uni2013 = timesUniData[timesUniData[\"year\"] == year]\n",
    "\n",
    "countries = getNUniqueCoutnries(uni2013['country'], numC)\n",
    "\n",
    "# filter by columns\n",
    "filteredData = uni2013.query('country in @countries')\n",
    "\n",
    "# group by country and extract only the first five rows\n",
    "groupedData = filteredData.groupby(by='country').apply(lambda x : x[:5])\n",
    "\n",
    "edgeData, attribData = createEdgeListData(groupedData, 'university_name', \n",
    "        'country', 'international')\n",
    "\n",
    "# print(edgeList)\n",
    "graph1 = nx.Graph()\n",
    "\n",
    "for ed, ad in zip(edgeData, attribData):\n",
    "    graph1.add_edge(ed[0], ed[1], weight=ad[0], color=ad[1])\n",
    "\n",
    "colors = list(nx.get_edge_attributes(graph1, 'color').values())\n",
    "weights = nx.get_edge_attributes(graph1, 'weight').values()\n",
    "weights = [i / 10 for i in weights]"
   ]
  },
  {
   "cell_type": "code",
   "execution_count": 25,
   "metadata": {},
   "outputs": [],
   "source": [
    "# working plotting with pyvis\n",
    "# the data preprocessing(quering is gonna be the same)\n",
    "# as done in the first plot\n",
    "import pyvis.network as pvn\n",
    "\n",
    "network = pvn.Network(width=\"800px\", height=\"600px\")\n",
    "\n",
    "countryColMapping = { i : getRandomColorString() for i in countries}\n",
    "defEdgeColor = 'rgba(107, 135, 227, .5)'\n",
    "defFont = '12 arial black'\n",
    "specialFont = '20 arial black'\n",
    "\n",
    "for ed, ad in zip(edgeData, attribData):\n",
    "    col1, col2 = defEdgeColor, defEdgeColor\n",
    "    f1 = f2 = defFont\n",
    "\n",
    "    if ed[0] in countries:\n",
    "        col1 = countryColMapping[ed[0]]\n",
    "        f1 = specialFont\n",
    "    \n",
    "    if ed[1] in countries:\n",
    "        col2 = countryColMapping[ed[1]]\n",
    "        f2 = specialFont\n",
    "\n",
    "    network.add_node(ed[0], color = col1, font=f1)\n",
    "    network.add_node(ed[1], color = col2, font=f2)\n",
    "    \n",
    "    network.add_edge(ed[0], ed[1], value=ad[0], \n",
    "        color = getRandomColorString(ad[1]) )\n",
    "\n",
    "network.write_html(\"./graph1.html\")"
   ]
  },
  {
   "cell_type": "code",
   "execution_count": 26,
   "metadata": {},
   "outputs": [],
   "source": [
    "# plot 2\n",
    "# graph of 3 quantitative attributes Quality of Education, Quality of Faculty, Alumni Employment\n",
    "\n",
    "numC = 15\n",
    "year = 2012\n",
    "uni2012 = currUniData[currUniData[\"year\"] == year]\n",
    "title = \"Universities with quantitative attributes Quality of Education\\\n",
    "\\nQuality of Faculty and Alumni Employment\"\n",
    "\n",
    "edgeData, attribData = createEdgeListData(uni2012, 'quality_of_education', \n",
    "        'quality_of_faculty', 'alumni_employment')\n",
    "\n",
    "graph2 = nx.Graph()\n",
    "\n",
    "for ed, ad in zip(edgeData, attribData):\n",
    "    graph2.add_edge(ed[0], ed[1], weight=ad[0], color=ad[1])\n",
    "\n",
    "colors = list(nx.get_edge_attributes(graph2, 'color').values())\n",
    "weights = nx.get_edge_attributes(graph2, 'weight').values()\n",
    "weights = [i / 50 for i in weights]\n"
   ]
  },
  {
   "cell_type": "code",
   "execution_count": 27,
   "metadata": {},
   "outputs": [],
   "source": [
    "# second plot in pyvis\n",
    "# working plotting with pyvis\n",
    "# the data preprocessing(quering is gonna be the same)\n",
    "# as done in the first plot\n",
    "import pyvis.network as pvn\n",
    "\n",
    "network = pvn.Network(width=\"800px\", height=\"600px\")\n",
    "\n",
    "# defEdgeColor = 'rgba(107, 135, 227, .5)'\n",
    "# defFont = '12 arial black'\n",
    "# specialFont = '20 arial black'\n",
    "\n",
    "for ed, ad in zip(edgeData, attribData):\n",
    "    # col1, col2 = defEdgeColor, defEdgeColor\n",
    "    # f1 = f2 = defFont\n",
    "\n",
    "    network.add_node(ed[0]) #, color = col1, font=f1)\n",
    "    network.add_node(ed[1]) #, color = col2, font=f2)\n",
    "    \n",
    "    network.add_edge(ed[0], ed[1], value=ad[0], \n",
    "        color = getRandomColorString(ad[1]) )\n",
    "\n",
    "network.write_html(\"./graph2.html\")"
   ]
  }
 ],
 "metadata": {
  "interpreter": {
   "hash": "fcf1d46d271c46101d6967829d4a5f475342a2ce08e4944f989fbcdc9bb23690"
  },
  "kernelspec": {
   "display_name": "Python 3.9.0 64-bit",
   "language": "python",
   "name": "python3"
  },
  "language_info": {
   "codemirror_mode": {
    "name": "ipython",
    "version": 3
   },
   "file_extension": ".py",
   "mimetype": "text/x-python",
   "name": "python",
   "nbconvert_exporter": "python",
   "pygments_lexer": "ipython3",
   "version": "3.9.0"
  },
  "orig_nbformat": 4
 },
 "nbformat": 4,
 "nbformat_minor": 2
}
