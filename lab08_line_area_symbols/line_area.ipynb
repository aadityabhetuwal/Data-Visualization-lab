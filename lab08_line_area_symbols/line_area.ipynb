{
 "cells": [
  {
   "cell_type": "markdown",
   "metadata": {},
   "source": [
    "## Lab 08 - Line and area charts"
   ]
  },
  {
   "cell_type": "markdown",
   "metadata": {},
   "source": [
    "#### Used libraries\n",
    "\n",
    "1. **pandas**  \n",
    "    `pip install pandas`\n",
    "\n",
    "1. **plotly**  \n",
    "    `pip install plotly`\n",
    "\n",
    "1. **matplotlib**   \n",
    "    `pip install matplotlib`   \n",
    "    inside matplotlib we use pyplot and colors\n",
    "\n"
   ]
  },
  {
   "cell_type": "code",
   "execution_count": 2,
   "metadata": {},
   "outputs": [],
   "source": [
    "# imports\n",
    "import pandas as pd \n",
    "\n",
    "import matplotlib as mpl\n",
    "import matplotlib.pyplot as plt\n",
    "import matplotlib.colors as clr\n",
    "\n",
    "import numpy as np\n",
    "import os\n",
    "# import geopandas as gpd\n"
   ]
  },
  {
   "cell_type": "markdown",
   "metadata": {},
   "source": [
    "The university dataset has many .csv files.\n",
    "\n",
    "For this experiment we will be exploring only the cwurData.csv and timesData.csv"
   ]
  },
  {
   "cell_type": "code",
   "execution_count": 3,
   "metadata": {},
   "outputs": [],
   "source": [
    "def loadCSVData(path):\n",
    "    '''\n",
    "        Function helps load the given path name if it is a CSV file into a DataFrame using pandas\n",
    "    '''\n",
    "    if os.path.splitext(path)[1] == \".csv\": # read only csv files from the dataset\n",
    "        df = pd.read_csv(path, delimiter=',')\n",
    "\n",
    "        return df\n",
    "    return None"
   ]
  },
  {
   "cell_type": "markdown",
   "metadata": {},
   "source": [
    "#### Dataset timesData.csv for other tasks"
   ]
  },
  {
   "cell_type": "code",
   "execution_count": 4,
   "metadata": {},
   "outputs": [
    {
     "name": "stdout",
     "output_type": "stream",
     "text": [
      "<class 'pandas.core.frame.DataFrame'>\n",
      "RangeIndex: 2603 entries, 0 to 2602\n",
      "Data columns (total 14 columns):\n",
      " #   Column                  Non-Null Count  Dtype  \n",
      "---  ------                  --------------  -----  \n",
      " 0   world_rank              2603 non-null   object \n",
      " 1   university_name         2603 non-null   object \n",
      " 2   country                 2603 non-null   object \n",
      " 3   teaching                2603 non-null   float64\n",
      " 4   international           2603 non-null   object \n",
      " 5   research                2603 non-null   float64\n",
      " 6   citations               2603 non-null   float64\n",
      " 7   income                  2603 non-null   object \n",
      " 8   total_score             2603 non-null   object \n",
      " 9   num_students            2544 non-null   object \n",
      " 10  student_staff_ratio     2544 non-null   float64\n",
      " 11  international_students  2536 non-null   object \n",
      " 12  female_male_ratio       2370 non-null   object \n",
      " 13  year                    2603 non-null   int64  \n",
      "dtypes: float64(4), int64(1), object(9)\n",
      "memory usage: 284.8+ KB\n",
      "None\n"
     ]
    }
   ],
   "source": [
    "# loading timesData.csv\n",
    "timesUniData = loadCSVData(\"../world_university_ranking/timesData.csv\")\n",
    "\n",
    "# info on columns\n",
    "print(timesUniData.info())"
   ]
  },
  {
   "cell_type": "code",
   "execution_count": 4,
   "metadata": {},
   "outputs": [
    {
     "data": {
      "text/plain": [
       "world_rank                  0\n",
       "university_name             0\n",
       "country                     0\n",
       "teaching                    0\n",
       "international               0\n",
       "research                    0\n",
       "citations                   0\n",
       "income                      0\n",
       "total_score                 0\n",
       "num_students               59\n",
       "student_staff_ratio        59\n",
       "international_students     67\n",
       "female_male_ratio         233\n",
       "year                        0\n",
       "dtype: int64"
      ]
     },
     "execution_count": 4,
     "metadata": {},
     "output_type": "execute_result"
    }
   ],
   "source": [
    "timesUniData.isnull().sum()"
   ]
  },
  {
   "cell_type": "code",
   "execution_count": 5,
   "metadata": {},
   "outputs": [
    {
     "name": "stdout",
     "output_type": "stream",
     "text": [
      "Dropped 241 NaN values\n",
      "world_rank                0\n",
      "university_name           0\n",
      "country                   0\n",
      "teaching                  0\n",
      "international             0\n",
      "research                  0\n",
      "citations                 0\n",
      "income                    0\n",
      "total_score               0\n",
      "num_students              0\n",
      "student_staff_ratio       0\n",
      "international_students    0\n",
      "female_male_ratio         0\n",
      "year                      0\n",
      "dtype: int64\n"
     ]
    }
   ],
   "source": [
    "before = timesUniData.shape[0]\n",
    "timesUniData = timesUniData.dropna()\n",
    "\n",
    "print(f\"Dropped {before - timesUniData.shape[0]} NaN values\")\n",
    "print(timesUniData.isnull().sum())"
   ]
  },
  {
   "cell_type": "code",
   "execution_count": 6,
   "metadata": {},
   "outputs": [],
   "source": [
    "def parseNumberOfStudents(df : pd.Series) -> list[float]:\n",
    "    if df.dtype == object:\n",
    "        tmp = [item.replace(',', '') for ind, item in df.iteritems() ]\n",
    "        return list(map(float, tmp))\n",
    "    else:\n",
    "        return list(df)\n",
    "\n",
    "def parseGenderRatio(df : pd.Series) -> list[float]:\n",
    "    lst = []\n",
    "    ratio = 0\n",
    "\n",
    "    if df.dtype == object:\n",
    "        for ind, item in df.iteritems():\n",
    "            try:\n",
    "                tmp = list(map(int, item.split(\":\") ) )\n",
    "                lst.append(tmp[0]) \n",
    "            except:\n",
    "                lst.append(0) # no data\n",
    "\n",
    "        return lst\n",
    "    else:\n",
    "        return list(df)\n",
    "\n",
    "# international student is given in the format 27% so we can just remove the % to\n",
    "# convert it into a numeric data type\n",
    "def parseInternationalStudents(df : pd.Series) -> list[float]:\n",
    "    if df.dtype == object:\n",
    "        tmp = [item.replace('%', '') for ind, item in df.iteritems() ]\n",
    "        return list(map(float, tmp))\n",
    "    else:\n",
    "        return list(df)\n",
    "\n",
    "#convert income to float 64\n",
    "def parseObjects(df : pd.Series) -> list[float]:\n",
    "    if df.dtype == object:\n",
    "        tmp = []\n",
    "        mx, mn = -1e9, 1e9\n",
    "\n",
    "        for ind, item  in df.iteritems():\n",
    "            try:\n",
    "                tmp.append(float(item))\n",
    "\n",
    "                if float(item) > mx:\n",
    "                    mx = float(item)\n",
    "                \n",
    "                if float(item) < mn:\n",
    "                    mn = float(item)\n",
    "\n",
    "            except Exception as e:\n",
    "                # assign random value except assign 0\n",
    "                tmp.append(np.random.randint(mn, mx))\n",
    "            \n",
    "        return tmp\n",
    "    else:\n",
    "        return list(df)\n"
   ]
  },
  {
   "cell_type": "code",
   "execution_count": 7,
   "metadata": {},
   "outputs": [
    {
     "name": "stdout",
     "output_type": "stream",
     "text": [
      "<class 'pandas.core.frame.DataFrame'>\n",
      "Int64Index: 2362 entries, 1 to 2602\n",
      "Data columns (total 14 columns):\n",
      " #   Column                  Non-Null Count  Dtype  \n",
      "---  ------                  --------------  -----  \n",
      " 0   world_rank              2362 non-null   object \n",
      " 1   university_name         2362 non-null   object \n",
      " 2   country                 2362 non-null   object \n",
      " 3   teaching                2362 non-null   float64\n",
      " 4   international           2362 non-null   float64\n",
      " 5   research                2362 non-null   float64\n",
      " 6   citations               2362 non-null   float64\n",
      " 7   income                  2362 non-null   float64\n",
      " 8   total_score             2362 non-null   float64\n",
      " 9   num_students            2362 non-null   float64\n",
      " 10  student_staff_ratio     2362 non-null   float64\n",
      " 11  international_students  2362 non-null   float64\n",
      " 12  female_male_ratio       2362 non-null   int64  \n",
      " 13  year                    2362 non-null   int64  \n",
      "dtypes: float64(9), int64(2), object(3)\n",
      "memory usage: 276.8+ KB\n",
      "None\n"
     ]
    }
   ],
   "source": [
    "# here since number of students and gender ratio is given in strings we need to\n",
    "# convert them into numeric types\n",
    "\n",
    "timesUniData.num_students = parseNumberOfStudents(timesUniData.num_students)\n",
    "pd.to_numeric(timesUniData.num_students)\n",
    "\n",
    "timesUniData.female_male_ratio = parseGenderRatio(timesUniData.female_male_ratio)\n",
    "pd.to_numeric(timesUniData.female_male_ratio)\n",
    "\n",
    "timesUniData.international_students = parseInternationalStudents(\n",
    "    timesUniData.international_students)\n",
    "pd.to_numeric(timesUniData.international_students)\n",
    "\n",
    "timesUniData.income = parseObjects(timesUniData.income)\n",
    "pd.to_numeric(timesUniData.income)\n",
    "\n",
    "total_score = parseObjects(timesUniData.total_score)\n",
    "timesUniData.total_score = total_score\n",
    "pd.to_numeric(timesUniData.total_score)\n",
    "\n",
    "timesUniData.international = parseObjects(timesUniData.international)\n",
    "pd.to_numeric(timesUniData.international)\n",
    "\n",
    "print(timesUniData.info())"
   ]
  },
  {
   "cell_type": "code",
   "execution_count": 24,
   "metadata": {},
   "outputs": [
    {
     "data": {
      "text/plain": [
       "<matplotlib.legend.Legend at 0x1a75efbbd60>"
      ]
     },
     "execution_count": 24,
     "metadata": {},
     "output_type": "execute_result"
    }
   ],
   "source": [
    "# plot 1\n",
    "# line chart of teaching and citations vs world rank\n",
    "%matplotlib qt\n",
    "\n",
    "numUni = 100\n",
    "\n",
    "# since world rankings are not given in pure int64 format we use a cheaty way of solving\n",
    "# by generating rankings list for 1 to numUni\n",
    "\n",
    "rankingList = [i for i in range(1, numUni + 1) ]\n",
    "\n",
    "def plotLineChart(ax, df, label = 'plot', marksersize = 1, linewidth = 1,\n",
    "        color='b', marker='o', linestyle='-', markercolor = 'r'):\n",
    "\n",
    "    ax.plot(rankingList, df, label= label, color = color, marker = marker, linestyle = linestyle,\n",
    "            markersize = marksersize, linewidth = linewidth, markerfacecolor = markercolor)\n",
    "    # ax.plot(rankingList, df.citations, '-o', color = 'k', label=\"Citations\",\n",
    "    #         , markersize = 5, linewidth = 2)\n",
    "    \n",
    "uniData = timesUniData[timesUniData[\"year\"] == 2013].iloc[:numUni, :]\n",
    "\n",
    "fig, ax = plt.subplots(figsize=(15, 7.5))\n",
    "\n",
    "color = ['green', 'blue']\n",
    "markercolor = ['red', 'violet']\n",
    "marker = ['o', 's']\n",
    "linestyle = ['-', '--']\n",
    "\n",
    "plotLineChart(ax, uniData.teaching, \"Teaching\", 5, 3, \n",
    "        color[0], marker[0], linestyle[0], markercolor[0])\n",
    "\n",
    "plotLineChart(ax, uniData.citations, \"Citations\", 6, 4, \n",
    "        color[1], marker[1], linestyle[1], markercolor[1])\n",
    "\n",
    "ax.set_title(\"Line chart of world rank vs teaching and citations\", fontsize=16)\n",
    "ax.set_xlabel(\"World Rank\", fontsize=12)\n",
    "ax.set_ylabel(\"Teaching or citation\", fontsize=12)\n",
    "ax.grid()\n",
    "\n",
    "ax.legend(['Teaching', 'Citations'], title=\"Legend\", shadow=True, loc='upper right')"
   ]
  },
  {
   "cell_type": "code",
   "execution_count": 9,
   "metadata": {},
   "outputs": [
    {
     "name": "stdout",
     "output_type": "stream",
     "text": [
      "<class 'pandas.core.frame.DataFrame'>\n",
      "RangeIndex: 2200 entries, 0 to 2199\n",
      "Data columns (total 14 columns):\n",
      " #   Column                Non-Null Count  Dtype  \n",
      "---  ------                --------------  -----  \n",
      " 0   world_rank            2200 non-null   int64  \n",
      " 1   institution           2200 non-null   object \n",
      " 2   country               2200 non-null   object \n",
      " 3   national_rank         2200 non-null   int64  \n",
      " 4   quality_of_education  2200 non-null   int64  \n",
      " 5   alumni_employment     2200 non-null   int64  \n",
      " 6   quality_of_faculty    2200 non-null   int64  \n",
      " 7   publications          2200 non-null   int64  \n",
      " 8   influence             2200 non-null   int64  \n",
      " 9   citations             2200 non-null   int64  \n",
      " 10  broad_impact          2000 non-null   float64\n",
      " 11  patents               2200 non-null   int64  \n",
      " 12  score                 2200 non-null   float64\n",
      " 13  year                  2200 non-null   int64  \n",
      "dtypes: float64(2), int64(10), object(2)\n",
      "memory usage: 240.8+ KB\n",
      "None\n"
     ]
    }
   ],
   "source": [
    "# file cwurData.csv\n",
    "currUniData = loadCSVData(\"../world_university_ranking/cwurData.csv\")\n",
    "print(currUniData.info())"
   ]
  },
  {
   "cell_type": "code",
   "execution_count": 10,
   "metadata": {},
   "outputs": [
    {
     "data": {
      "text/plain": [
       "world_rank                0\n",
       "institution               0\n",
       "country                   0\n",
       "national_rank             0\n",
       "quality_of_education      0\n",
       "alumni_employment         0\n",
       "quality_of_faculty        0\n",
       "publications              0\n",
       "influence                 0\n",
       "citations                 0\n",
       "broad_impact            200\n",
       "patents                   0\n",
       "score                     0\n",
       "year                      0\n",
       "dtype: int64"
      ]
     },
     "execution_count": 10,
     "metadata": {},
     "output_type": "execute_result"
    }
   ],
   "source": [
    "currUniData.isnull().sum()"
   ]
  },
  {
   "cell_type": "code",
   "execution_count": 11,
   "metadata": {},
   "outputs": [
    {
     "name": "stdout",
     "output_type": "stream",
     "text": [
      "<class 'pandas.core.frame.DataFrame'>\n",
      "RangeIndex: 2200 entries, 0 to 2199\n",
      "Data columns (total 14 columns):\n",
      " #   Column                Non-Null Count  Dtype  \n",
      "---  ------                --------------  -----  \n",
      " 0   world_rank            2200 non-null   int64  \n",
      " 1   institution           2200 non-null   object \n",
      " 2   country               2200 non-null   object \n",
      " 3   national_rank         2200 non-null   int64  \n",
      " 4   quality_of_education  2200 non-null   int64  \n",
      " 5   alumni_employment     2200 non-null   int64  \n",
      " 6   quality_of_faculty    2200 non-null   int64  \n",
      " 7   publications          2200 non-null   int64  \n",
      " 8   influence             2200 non-null   int64  \n",
      " 9   citations             2200 non-null   int64  \n",
      " 10  broad_impact          2000 non-null   float64\n",
      " 11  patents               2200 non-null   int64  \n",
      " 12  score                 2200 non-null   float64\n",
      " 13  year                  2200 non-null   int64  \n",
      "dtypes: float64(2), int64(10), object(2)\n",
      "memory usage: 240.8+ KB\n"
     ]
    }
   ],
   "source": [
    "currUniData.info()"
   ]
  },
  {
   "cell_type": "code",
   "execution_count": 25,
   "metadata": {},
   "outputs": [],
   "source": [
    "#plot 2\n",
    "# here we use cwurData.csv dataset\n",
    "# stacked chart comparing quality of education of the top 5 university for the year 2012 - 2015\n",
    "\n",
    "year_s = 2012\n",
    "year_e = 2015\n",
    "num_uni = 5\n",
    "\n",
    "yearList = [i for i in range(year_s, year_e + 1) ]\n",
    "\n",
    "def getIndivisualData(df : pd.DataFrame, uniNames : list[str], year : int) -> pd.DataFrame :\n",
    "    dfY = df[df[\"year\"] == year]\n",
    "    dfUnis = dfY.query('institution in @uniNames')\n",
    "    return dfUnis\n",
    "\n",
    "def getQualityOfEducationEachYear(df, university):\n",
    "    filter = df[df[\"institution\"] == university]\n",
    "    return list(filter.quality_of_education)\n",
    "\n",
    "def plotLineChart(ax, df, label = 'plot', marksersize = 1, linewidth = 1,\n",
    "        marker='o', linestyle='-'):\n",
    "\n",
    "    ax.plot(yearList, df, label= label, marker = marker, linestyle = linestyle,\n",
    "            markersize = marksersize, linewidth = linewidth)\n",
    "            \n",
    "\n",
    "uniData = currUniData[currUniData[\"year\"] == year_s][\"institution\"]\n",
    "\n",
    "# we are excluding havard as its data is all ones when compared to others\n",
    "uni_names = list(uniData.iloc[1 : (num_uni + 1)] ) \n",
    "\n",
    "dataStore = currUniData[0:0]\n",
    "# print(dataStore)\n",
    "\n",
    "\n",
    "for i in range(year_s, year_e + 1):\n",
    "    dataStore = dataStore.append(\n",
    "            getIndivisualData(currUniData, uni_names, i))\n",
    "\n",
    "plt.figure(figsize=(15, 7.5))\n",
    "\n",
    "linestyle = ['-', '-.', '--', ':', '-']\n",
    "\n",
    "c = 0\n",
    "\n",
    "for i in uni_names:\n",
    "    tmp = getQualityOfEducationEachYear(dataStore, i)\n",
    "\n",
    "    plotLineChart(plt, tmp, i, 5, 3, linestyle = linestyle[c])\n",
    "    plt.fill_between(yearList, tmp, alpha = .5)\n",
    "\n",
    "    c += 1\n",
    "\n",
    "plt.xlabel(\"Year\", fontsize=12)\n",
    "plt.ylabel(\"Quality of education\", fontsize=12)\n",
    "plt.title(f\"Quality of education of top 5 universities for the year {year_s} - {year_e}\", fontsize=16)\n",
    "plt.legend(uni_names, title=\"Legend\", shadow=True, loc='upper right')\n",
    "plt.grid()\n",
    "plt.show()\n"
   ]
  },
  {
   "cell_type": "code",
   "execution_count": 13,
   "metadata": {},
   "outputs": [
    {
     "name": "stdout",
     "output_type": "stream",
     "text": [
      "<class 'pandas.core.frame.DataFrame'>\n",
      "RangeIndex: 4897 entries, 0 to 4896\n",
      "Data columns (total 11 columns):\n",
      " #   Column           Non-Null Count  Dtype  \n",
      "---  ------           --------------  -----  \n",
      " 0   world_rank       4897 non-null   object \n",
      " 1   university_name  4896 non-null   object \n",
      " 2   national_rank    4896 non-null   object \n",
      " 3   total_score      1101 non-null   float64\n",
      " 4   alumni           4896 non-null   float64\n",
      " 5   award            4895 non-null   float64\n",
      " 6   hici             4895 non-null   float64\n",
      " 7   ns               4875 non-null   float64\n",
      " 8   pub              4895 non-null   float64\n",
      " 9   pcp              4895 non-null   float64\n",
      " 10  year             4897 non-null   int64  \n",
      "dtypes: float64(7), int64(1), object(3)\n",
      "memory usage: 421.0+ KB\n",
      "None\n"
     ]
    }
   ],
   "source": [
    "shanghaiData = loadCSVData(\"../world_university_ranking/shanghaiData.csv\")\n",
    "# info on columns\n",
    "print(shanghaiData.info())"
   ]
  },
  {
   "cell_type": "code",
   "execution_count": 14,
   "metadata": {},
   "outputs": [
    {
     "data": {
      "text/plain": [
       "world_rank            0\n",
       "university_name       1\n",
       "national_rank         1\n",
       "total_score        3796\n",
       "alumni                1\n",
       "award                 2\n",
       "hici                  2\n",
       "ns                   22\n",
       "pub                   2\n",
       "pcp                   2\n",
       "year                  0\n",
       "dtype: int64"
      ]
     },
     "execution_count": 14,
     "metadata": {},
     "output_type": "execute_result"
    }
   ],
   "source": [
    "shanghaiData.isnull().sum()"
   ]
  },
  {
   "cell_type": "code",
   "execution_count": 15,
   "metadata": {},
   "outputs": [
    {
     "name": "stdout",
     "output_type": "stream",
     "text": [
      "Dropped 22 NaN values\n",
      "world_rank         0\n",
      "university_name    0\n",
      "national_rank      0\n",
      "alumni             0\n",
      "award              0\n",
      "hici               0\n",
      "ns                 0\n",
      "pub                0\n",
      "pcp                0\n",
      "year               0\n",
      "dtype: int64\n"
     ]
    }
   ],
   "source": [
    "# total score has 3000 misssing values so we just drop the table\n",
    "try:\n",
    "    shanghaiData = shanghaiData.drop(columns='total_score')\n",
    "except Exception as e:\n",
    "    pass\n",
    "\n",
    "before = shanghaiData.shape[0]\n",
    "shanghaiData = shanghaiData.dropna()\n",
    "\n",
    "print(f\"Dropped {before - shanghaiData.shape[0]} NaN values\")\n",
    "print(shanghaiData.isnull().sum())"
   ]
  },
  {
   "cell_type": "code",
   "execution_count": 16,
   "metadata": {},
   "outputs": [
    {
     "name": "stdout",
     "output_type": "stream",
     "text": [
      "<class 'pandas.core.frame.DataFrame'>\n",
      "Int64Index: 4875 entries, 0 to 4896\n",
      "Data columns (total 10 columns):\n",
      " #   Column           Non-Null Count  Dtype  \n",
      "---  ------           --------------  -----  \n",
      " 0   world_rank       4875 non-null   object \n",
      " 1   university_name  4875 non-null   object \n",
      " 2   national_rank    4875 non-null   object \n",
      " 3   alumni           4875 non-null   float64\n",
      " 4   award            4875 non-null   float64\n",
      " 5   hici             4875 non-null   float64\n",
      " 6   ns               4875 non-null   float64\n",
      " 7   pub              4875 non-null   float64\n",
      " 8   pcp              4875 non-null   float64\n",
      " 9   year             4875 non-null   int64  \n",
      "dtypes: float64(6), int64(1), object(3)\n",
      "memory usage: 418.9+ KB\n"
     ]
    }
   ],
   "source": [
    "shanghaiData.info()"
   ]
  },
  {
   "cell_type": "code",
   "execution_count": 27,
   "metadata": {},
   "outputs": [],
   "source": [
    "# plot 3\n",
    "# line chart of publications of top 100 university for a year\n",
    "year = 2010\n",
    "\n",
    "num_uni = 100\n",
    "\n",
    "rankingList = [i for i in range(0, num_uni)]\n",
    "\n",
    "def plotLineChart(ax, df, label = 'plot', marksersize = 1, linewidth = 1,\n",
    "        marker='o', linestyle='-',  markerfacecolor = 'tab:orange'):\n",
    "\n",
    "    ax.plot(rankingList, df, label= label, marker = marker, linestyle = linestyle, alpha = .8,\n",
    "            markersize = marksersize, linewidth = linewidth, markerfacecolor = markerfacecolor)\n",
    "            \n",
    "\n",
    "uniData = shanghaiData[shanghaiData[\"year\"] == year].head(num_uni)\n",
    "\n",
    "plotLineChart(plt, uniData.pub, \"Publications\", 7, 7, marker = 's')\n",
    "\n",
    "plt.xlabel(\"University Ranking\", fontsize=12)\n",
    "plt.ylabel(\"Publications\", fontsize=12)\n",
    "plt.title(f\"Publications of top 100 universities for the year {year}\", fontsize=16)\n",
    "\n",
    "plt.legend(\"Publications\", title=\"Legend\", shadow=True, loc='upper right')\n",
    "plt.grid()\n",
    "plt.show()"
   ]
  },
  {
   "cell_type": "code",
   "execution_count": 10,
   "metadata": {},
   "outputs": [
    {
     "name": "stdout",
     "output_type": "stream",
     "text": [
      "['34.5', '35.9', '39.9', '40.6']\n",
      "['83.7', '97.0', '95.6', '91.2']\n",
      "['87.5', '94.4', '92.9', '94.3']\n",
      "['64.3', '63.8', '62.4', '61.3']\n"
     ]
    }
   ],
   "source": [
    "# plot 4\n",
    "# here we use cwurData.csv dataset\n",
    "# stacked chart comparing score of top 7 university for the year 2012 - 2015\n",
    "%matplotlib qt\n",
    "\n",
    "year_s = 2011\n",
    "year_e = 2014\n",
    "num_uni = 4\n",
    "\n",
    "yearList = [i for i in range(year_s, year_e + 1) ]\n",
    "\n",
    "def getIndivisualData(df : pd.DataFrame, uniNames : list[str], year : int) -> pd.DataFrame :\n",
    "    dfY = df[df[\"year\"] == year]\n",
    "    dfUnis = dfY.query('university_name in @uniNames')\n",
    "    return dfUnis\n",
    "\n",
    "def getSeries(df, university):\n",
    "    filter = df[df['university_name'] == university]\n",
    "    return list(filter.income)\n",
    "\n",
    "def plotLineChart(ax, df, label = 'plot', markersize = 1, linewidth = 1,\n",
    "        marker='o', linestyle='-'):\n",
    "\n",
    "    ax.plot(yearList, df, label= label, marker = marker, linestyle = linestyle,\n",
    "            markersize = markersize, linewidth = linewidth)\n",
    "            \n",
    "uniData = timesUniData[timesUniData[\"year\"] == year_s][\"university_name\"]\n",
    "\n",
    "# we are excluding havard as its data is all ones when compared to others\n",
    "uni_names = list(uniData.iloc[: num_uni]) \n",
    "\n",
    "dataStore = timesUniData[0:0]\n",
    "# print(dataStore)\n",
    "\n",
    "for i in range(year_s, year_e + 1):\n",
    "    dataStore = dataStore.append(\n",
    "            getIndivisualData(timesUniData, uni_names, i))\n",
    "\n",
    "plt.figure(figsize=(15, 7.5))\n",
    "\n",
    "linestyle = ['-', '-.', '--', ':', '-']\n",
    "c = 0\n",
    "\n",
    "for i in uni_names:\n",
    "    tmp = getSeries(dataStore, i)\n",
    "    print(tmp)\n",
    "    plotLineChart(plt, tmp, i, 5, 3, linestyle = linestyle[c])\n",
    "    plt.fill_between(yearList, tmp, alpha = .5)\n",
    "    c += 1\n",
    "\n",
    "plt.xlabel(\"Year\", fontsize=12)\n",
    "plt.ylabel(\"Score\", fontsize=12)\n",
    "plt.title(f\"Score of top 5 universities for the year {year_s} - {year_e}\", fontsize=16)\n",
    "plt.legend(uni_names, title=\"Legend\", shadow=True, loc='upper left')\n",
    "plt.grid()\n",
    "plt.show()\n"
   ]
  }
 ],
 "metadata": {
  "interpreter": {
   "hash": "fcf1d46d271c46101d6967829d4a5f475342a2ce08e4944f989fbcdc9bb23690"
  },
  "kernelspec": {
   "display_name": "Python 3.9.0 64-bit",
   "language": "python",
   "name": "python3"
  },
  "language_info": {
   "codemirror_mode": {
    "name": "ipython",
    "version": 3
   },
   "file_extension": ".py",
   "mimetype": "text/x-python",
   "name": "python",
   "nbconvert_exporter": "python",
   "pygments_lexer": "ipython3",
   "version": "3.9.0"
  },
  "orig_nbformat": 4
 },
 "nbformat": 4,
 "nbformat_minor": 2
}
