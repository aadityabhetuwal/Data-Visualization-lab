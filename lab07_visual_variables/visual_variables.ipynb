{
 "cells": [
  {
   "cell_type": "markdown",
   "metadata": {},
   "source": [
    "## Lab 07 - Visual variables (shape, size and hue)"
   ]
  },
  {
   "cell_type": "markdown",
   "metadata": {},
   "source": [
    "#### Used libraries\n",
    "\n",
    "1. **pandas**  \n",
    "    `pip install pandas`\n",
    "\n",
    "1. **plotly**  \n",
    "    `pip install plotly`\n",
    "\n",
    "1. **matplotlib**   \n",
    "    `pip install matplotlib`   \n",
    "    inside matplotlib we use pyplot and colors\n",
    "\n"
   ]
  },
  {
   "cell_type": "code",
   "execution_count": 2,
   "metadata": {},
   "outputs": [],
   "source": [
    "# imports\n",
    "import pandas as pd \n",
    "\n",
    "import matplotlib as mpl\n",
    "import matplotlib.pyplot as plt\n",
    "import matplotlib.colors as clr\n",
    "\n",
    "import numpy as np\n",
    "import os\n",
    "# import geopandas as gpd\n"
   ]
  },
  {
   "cell_type": "markdown",
   "metadata": {},
   "source": [
    "The university dataset has many .csv files.\n",
    "\n",
    "For this experiment we will be exploring only the cwurData.csv and timesData.csv"
   ]
  },
  {
   "cell_type": "code",
   "execution_count": 3,
   "metadata": {},
   "outputs": [],
   "source": [
    "def loadCSVData(path):\n",
    "    '''\n",
    "        Function helps load the given path name if it is a CSV file into a DataFrame using pandas\n",
    "    '''\n",
    "    if os.path.splitext(path)[1] == \".csv\": # read only csv files from the dataset\n",
    "        df = pd.read_csv(path, delimiter=',')\n",
    "\n",
    "        return df\n",
    "    return None"
   ]
  },
  {
   "cell_type": "markdown",
   "metadata": {},
   "source": [
    "#### Dataset timesData.csv for other tasks"
   ]
  },
  {
   "cell_type": "code",
   "execution_count": 4,
   "metadata": {},
   "outputs": [
    {
     "name": "stdout",
     "output_type": "stream",
     "text": [
      "<class 'pandas.core.frame.DataFrame'>\n",
      "RangeIndex: 2603 entries, 0 to 2602\n",
      "Data columns (total 14 columns):\n",
      " #   Column                  Non-Null Count  Dtype  \n",
      "---  ------                  --------------  -----  \n",
      " 0   world_rank              2603 non-null   object \n",
      " 1   university_name         2603 non-null   object \n",
      " 2   country                 2603 non-null   object \n",
      " 3   teaching                2603 non-null   float64\n",
      " 4   international           2603 non-null   object \n",
      " 5   research                2603 non-null   float64\n",
      " 6   citations               2603 non-null   float64\n",
      " 7   income                  2603 non-null   object \n",
      " 8   total_score             2603 non-null   object \n",
      " 9   num_students            2544 non-null   object \n",
      " 10  student_staff_ratio     2544 non-null   float64\n",
      " 11  international_students  2536 non-null   object \n",
      " 12  female_male_ratio       2370 non-null   object \n",
      " 13  year                    2603 non-null   int64  \n",
      "dtypes: float64(4), int64(1), object(9)\n",
      "memory usage: 284.8+ KB\n",
      "None\n"
     ]
    }
   ],
   "source": [
    "# loading timesData.csv\n",
    "timesUniData = loadCSVData(\"../world_university_ranking/timesData.csv\")\n",
    "\n",
    "# info on columns\n",
    "print(timesUniData.info())"
   ]
  },
  {
   "cell_type": "code",
   "execution_count": 5,
   "metadata": {},
   "outputs": [
    {
     "data": {
      "text/plain": [
       "world_rank                  0\n",
       "university_name             0\n",
       "country                     0\n",
       "teaching                    0\n",
       "international               0\n",
       "research                    0\n",
       "citations                   0\n",
       "income                      0\n",
       "total_score                 0\n",
       "num_students               59\n",
       "student_staff_ratio        59\n",
       "international_students     67\n",
       "female_male_ratio         233\n",
       "year                        0\n",
       "dtype: int64"
      ]
     },
     "execution_count": 5,
     "metadata": {},
     "output_type": "execute_result"
    }
   ],
   "source": [
    "timesUniData.isnull().sum()"
   ]
  },
  {
   "cell_type": "code",
   "execution_count": 6,
   "metadata": {},
   "outputs": [
    {
     "name": "stdout",
     "output_type": "stream",
     "text": [
      "Dropped 241 NaN values\n",
      "world_rank                0\n",
      "university_name           0\n",
      "country                   0\n",
      "teaching                  0\n",
      "international             0\n",
      "research                  0\n",
      "citations                 0\n",
      "income                    0\n",
      "total_score               0\n",
      "num_students              0\n",
      "student_staff_ratio       0\n",
      "international_students    0\n",
      "female_male_ratio         0\n",
      "year                      0\n",
      "dtype: int64\n"
     ]
    }
   ],
   "source": [
    "before = timesUniData.shape[0]\n",
    "timesUniData = timesUniData.dropna()\n",
    "\n",
    "print(f\"Dropped {before - timesUniData.shape[0]} NaN values\")\n",
    "print(timesUniData.isnull().sum())"
   ]
  },
  {
   "cell_type": "code",
   "execution_count": 7,
   "metadata": {},
   "outputs": [],
   "source": [
    "def parseNumberOfStudents(df : pd.Series) -> list[float]:\n",
    "    if df.dtype == object:\n",
    "        tmp = [item.replace(',', '') for ind, item in df.iteritems() ]\n",
    "        return list(map(float, tmp))\n",
    "    else:\n",
    "        return list(df)\n",
    "\n",
    "def parseGenderRatio(df : pd.Series) -> list[float]:\n",
    "    lst = []\n",
    "    ratio = 0\n",
    "\n",
    "    if df.dtype == object:\n",
    "        for ind, item in df.iteritems():\n",
    "            try:\n",
    "                tmp = list(map(int, item.split(\":\") ) )\n",
    "                lst.append(tmp[0]) \n",
    "            except:\n",
    "                lst.append(0) # no data\n",
    "\n",
    "        return lst\n",
    "    else:\n",
    "        return list(df)\n",
    "\n",
    "# international student is given in the format 27% so we can just remove the % to\n",
    "# convert it into a numeric data type\n",
    "def parseInternationalStudents(df : pd.Series) -> list[float]:\n",
    "    if df.dtype == object:\n",
    "        tmp = [item.replace('%', '') for ind, item in df.iteritems() ]\n",
    "        return list(map(float, tmp))\n",
    "    else:\n",
    "        return list(df)\n",
    "\n",
    "#convert income to float 64\n",
    "def parseObjects(df : pd.Series) -> list[float]:\n",
    "    if df.dtype == object:\n",
    "        tmp = []\n",
    "        mx, mn = -1e9, 1e9\n",
    "\n",
    "        for ind, item  in df.iteritems():\n",
    "            try:\n",
    "                tmp.append(float(item))\n",
    "\n",
    "                if float(item) > mx:\n",
    "                    mx = float(item)\n",
    "                \n",
    "                if float(item) < mn:\n",
    "                    mn = float(item)\n",
    "\n",
    "            except Exception as e:\n",
    "                # assign random value except assign 0\n",
    "                tmp.append(np.random.randint(mn, mx))\n",
    "            \n",
    "        return tmp\n",
    "    else:\n",
    "        return list(df)\n"
   ]
  },
  {
   "cell_type": "code",
   "execution_count": 8,
   "metadata": {},
   "outputs": [
    {
     "name": "stdout",
     "output_type": "stream",
     "text": [
      "<class 'pandas.core.frame.DataFrame'>\n",
      "Int64Index: 2362 entries, 1 to 2602\n",
      "Data columns (total 14 columns):\n",
      " #   Column                  Non-Null Count  Dtype  \n",
      "---  ------                  --------------  -----  \n",
      " 0   world_rank              2362 non-null   object \n",
      " 1   university_name         2362 non-null   object \n",
      " 2   country                 2362 non-null   object \n",
      " 3   teaching                2362 non-null   float64\n",
      " 4   international           2362 non-null   float64\n",
      " 5   research                2362 non-null   float64\n",
      " 6   citations               2362 non-null   float64\n",
      " 7   income                  2362 non-null   float64\n",
      " 8   total_score             2362 non-null   float64\n",
      " 9   num_students            2362 non-null   float64\n",
      " 10  student_staff_ratio     2362 non-null   float64\n",
      " 11  international_students  2362 non-null   float64\n",
      " 12  female_male_ratio       2362 non-null   int64  \n",
      " 13  year                    2362 non-null   int64  \n",
      "dtypes: float64(9), int64(2), object(3)\n",
      "memory usage: 276.8+ KB\n",
      "None\n"
     ]
    }
   ],
   "source": [
    "# here we convert bunch of number data types to float64 or int64\n",
    "\n",
    "timesUniData.num_students = parseNumberOfStudents(timesUniData.num_students)\n",
    "pd.to_numeric(timesUniData.num_students)\n",
    "\n",
    "timesUniData.female_male_ratio = parseGenderRatio(timesUniData.female_male_ratio)\n",
    "pd.to_numeric(timesUniData.female_male_ratio)\n",
    "\n",
    "timesUniData.international_students = parseInternationalStudents(\n",
    "    timesUniData.international_students)\n",
    "pd.to_numeric(timesUniData.international_students)\n",
    "\n",
    "timesUniData.income = parseObjects(timesUniData.income)\n",
    "pd.to_numeric(timesUniData.income)\n",
    "\n",
    "total_score = parseObjects(timesUniData.total_score)\n",
    "timesUniData.total_score = total_score\n",
    "pd.to_numeric(timesUniData.total_score)\n",
    "\n",
    "timesUniData.international = parseObjects(timesUniData.international)\n",
    "pd.to_numeric(timesUniData.international)\n",
    "\n",
    "print(timesUniData.info())"
   ]
  },
  {
   "cell_type": "code",
   "execution_count": 9,
   "metadata": {},
   "outputs": [],
   "source": [
    "# plot 1\n",
    "# scatter plot of teching of different universities for two years\n",
    "%matplotlib qt\n",
    "\n",
    "numUni = 100\n",
    "\n",
    "# since world rankings are not given in pure int64 format we use a cheaty way of solving\n",
    "# by generating rankings list for 1 to numUni\n",
    "\n",
    "rankingList = [i for i in range(1, numUni + 1) ]\n",
    "\n",
    "uni2013 = timesUniData[timesUniData[\"year\"] == 2013].iloc[:numUni, :]\n",
    "uni2014 = timesUniData[timesUniData[\"year\"] == 2014].iloc[:numUni, :]\n",
    "\n",
    "sizes2013 = list(map(lambda x: (5 * x) / (2**2), uni2013.teaching))\n",
    "sizes2014 = list(map(lambda x: (5 * x) / (2**2), uni2014.teaching))\n",
    "# print(uni2013)\n",
    "\n",
    "fig, ax = plt.subplots(figsize=(15, 7.5))\n",
    "\n",
    "fig.suptitle(f\"Citations vs world ranking for the top 100 univeristies of year 2013 and 2014\",\n",
    "    size = 16)\n",
    "\n",
    "scatter2013 = ax.scatter(rankingList, list(uni2013.citations), s = sizes2013, alpha = .5,\n",
    "        color = 'tab:orange', marker = 's', label='2013' )\n",
    "\n",
    "scatter2014 = ax.scatter(rankingList, list(uni2014.citations), s= sizes2014, alpha = .5,\n",
    "        color = 'tab:brown', marker = 'o', label='2014' )\n",
    "\n",
    "ax.legend(['2013', '2014'], title=\"year\", shadow=True, loc='upper right')\n",
    "\n",
    "ax.set_xlabel(\"World ranking\", size=14)\n",
    "ax.set_ylabel(\"Citations\", size=14)\n",
    "ax.set_xticks(np.arange(0, numUni + 1, 10) )\n",
    "ax.set_yticks(np.arange(min(uni2013.citations), max(uni2013.citations) + 10, 10) )\n",
    "ax.grid(axis= 'x')\n"
   ]
  },
  {
   "cell_type": "code",
   "execution_count": 10,
   "metadata": {},
   "outputs": [],
   "source": [
    "# plot 2\n",
    "# scatter plot of research vs income of different universities over different year\n",
    "# with gender ratio as color\n",
    "%matplotlib qt\n",
    "\n",
    "yStart = 2012\n",
    "yEnd = 2014\n",
    "\n",
    "colors = ['Yellow', 'Green', 'skyblue', 'blue']\n",
    "cMap = mpl.colors.LinearSegmentedColormap.from_list('rainbow_color', colors)\n",
    "Norm = mpl.colors.Normalize(vmin= 40, vmax = 70)\n",
    "\n",
    "def makeScatterPlots(ax, df : pd.DataFrame, year : int, marker : str, label : str):\n",
    "    tmpData = df[df[\"year\"] == year].head(150)\n",
    "\n",
    "    ax.scatter(list(tmpData.research), list(tmpData.income), \n",
    "        c = list(tmpData.female_male_ratio), alpha = .5, s = 100, marker = marker, \n",
    "            label = label, cmap = cMap)\n",
    "        \n",
    "fig, ax = plt.subplots(figsize=(15, 7.5))\n",
    "\n",
    "fig.suptitle(f\"Publication vs awards with alumni as color for the top 100 universities of year {yStart} to {yEnd}\",\n",
    "    size = 16)\n",
    "\n",
    "markers = ['$2$', 4, 'p']\n",
    "\n",
    "for i in range(yStart, yEnd + 1):\n",
    "    makeScatterPlots(ax, timesUniData, i, markers[i - yStart], str(i))\n",
    "\n",
    "\n",
    "ax.set_xlabel(\"Research\", size=14)\n",
    "ax.set_ylabel(\"Income\", size=14)\n",
    "\n",
    "ax.legend([str(i) for i in range(yStart, yEnd + 1)], \n",
    "            title=\"Year\", shadow=True, loc='upper right')\n",
    "\n",
    "cBar = fig.colorbar(mpl.cm.ScalarMappable(cmap = cMap, norm = Norm))\n",
    "cBar.ax.tick_params(labelsize = 8)\n",
    "cBar.ax.set_title(\"Alumni\")\n",
    "\n",
    "fig.tight_layout()"
   ]
  },
  {
   "cell_type": "code",
   "execution_count": 12,
   "metadata": {},
   "outputs": [
    {
     "name": "stdout",
     "output_type": "stream",
     "text": [
      "<class 'pandas.core.frame.DataFrame'>\n",
      "RangeIndex: 2200 entries, 0 to 2199\n",
      "Data columns (total 14 columns):\n",
      " #   Column                Non-Null Count  Dtype  \n",
      "---  ------                --------------  -----  \n",
      " 0   world_rank            2200 non-null   int64  \n",
      " 1   institution           2200 non-null   object \n",
      " 2   country               2200 non-null   object \n",
      " 3   national_rank         2200 non-null   int64  \n",
      " 4   quality_of_education  2200 non-null   int64  \n",
      " 5   alumni_employment     2200 non-null   int64  \n",
      " 6   quality_of_faculty    2200 non-null   int64  \n",
      " 7   publications          2200 non-null   int64  \n",
      " 8   influence             2200 non-null   int64  \n",
      " 9   citations             2200 non-null   int64  \n",
      " 10  broad_impact          2000 non-null   float64\n",
      " 11  patents               2200 non-null   int64  \n",
      " 12  score                 2200 non-null   float64\n",
      " 13  year                  2200 non-null   int64  \n",
      "dtypes: float64(2), int64(10), object(2)\n",
      "memory usage: 240.8+ KB\n",
      "None\n"
     ]
    }
   ],
   "source": [
    "# file cwurData.csv\n",
    "currUniData = loadCSVData(\"../world_university_ranking/cwurData.csv\")\n",
    "print(currUniData.info())"
   ]
  },
  {
   "cell_type": "code",
   "execution_count": 13,
   "metadata": {},
   "outputs": [
    {
     "data": {
      "text/plain": [
       "world_rank                0\n",
       "institution               0\n",
       "country                   0\n",
       "national_rank             0\n",
       "quality_of_education      0\n",
       "alumni_employment         0\n",
       "quality_of_faculty        0\n",
       "publications              0\n",
       "influence                 0\n",
       "citations                 0\n",
       "broad_impact            200\n",
       "patents                   0\n",
       "score                     0\n",
       "year                      0\n",
       "dtype: int64"
      ]
     },
     "execution_count": 13,
     "metadata": {},
     "output_type": "execute_result"
    }
   ],
   "source": [
    "currUniData.isnull().sum()"
   ]
  },
  {
   "cell_type": "code",
   "execution_count": 14,
   "metadata": {},
   "outputs": [
    {
     "name": "stdout",
     "output_type": "stream",
     "text": [
      "Dropped 200 NaN values\n",
      "world_rank              0\n",
      "institution             0\n",
      "country                 0\n",
      "national_rank           0\n",
      "quality_of_education    0\n",
      "alumni_employment       0\n",
      "quality_of_faculty      0\n",
      "publications            0\n",
      "influence               0\n",
      "citations               0\n",
      "broad_impact            0\n",
      "patents                 0\n",
      "score                   0\n",
      "year                    0\n",
      "dtype: int64\n"
     ]
    }
   ],
   "source": [
    "before = currUniData.shape[0]\n",
    "currUniData = currUniData.dropna()\n",
    "\n",
    "print(f\"Dropped {before - currUniData.shape[0]} NaN values\")\n",
    "print(currUniData.isnull().sum())"
   ]
  },
  {
   "cell_type": "code",
   "execution_count": 15,
   "metadata": {},
   "outputs": [
    {
     "name": "stdout",
     "output_type": "stream",
     "text": [
      "<class 'pandas.core.frame.DataFrame'>\n",
      "Int64Index: 2000 entries, 200 to 2199\n",
      "Data columns (total 14 columns):\n",
      " #   Column                Non-Null Count  Dtype  \n",
      "---  ------                --------------  -----  \n",
      " 0   world_rank            2000 non-null   int64  \n",
      " 1   institution           2000 non-null   object \n",
      " 2   country               2000 non-null   object \n",
      " 3   national_rank         2000 non-null   int64  \n",
      " 4   quality_of_education  2000 non-null   int64  \n",
      " 5   alumni_employment     2000 non-null   int64  \n",
      " 6   quality_of_faculty    2000 non-null   int64  \n",
      " 7   publications          2000 non-null   int64  \n",
      " 8   influence             2000 non-null   int64  \n",
      " 9   citations             2000 non-null   int64  \n",
      " 10  broad_impact          2000 non-null   float64\n",
      " 11  patents               2000 non-null   int64  \n",
      " 12  score                 2000 non-null   float64\n",
      " 13  year                  2000 non-null   int64  \n",
      "dtypes: float64(2), int64(10), object(2)\n",
      "memory usage: 234.4+ KB\n"
     ]
    }
   ],
   "source": [
    "currUniData.info()"
   ]
  },
  {
   "cell_type": "code",
   "execution_count": 16,
   "metadata": {},
   "outputs": [
    {
     "data": {
      "text/plain": [
       "<matplotlib.legend.Legend at 0x2619c993190>"
      ]
     },
     "execution_count": 16,
     "metadata": {},
     "output_type": "execute_result"
    }
   ],
   "source": [
    "# plot 3\n",
    "# scatter plot of quailty_of_education vs publication\n",
    "%matplotlib qt\n",
    "\n",
    "def makeScatterPlots(ax, df : pd.DataFrame, year : int, marker : str, color : str, label : str):\n",
    "    tmpData = df[df[\"year\"] == year].head(100)\n",
    "    ax.scatter(list(tmpData.quality_of_faculty), list(tmpData.publications), \n",
    "            c = color, alpha = .5, s = 100, marker = marker, label = label)\n",
    "\n",
    "yStart = 2014\n",
    "yEnd = 2015\n",
    "\n",
    "colors = ['orange', 'violet', 'royalblue']\n",
    "        \n",
    "fig, ax = plt.subplots(figsize=(15, 7.5))\n",
    "\n",
    "fig.suptitle(f\"Quality of education vs publication for year {yStart} to {yEnd}\",\n",
    "    size = 16)\n",
    "\n",
    "\n",
    "markers = ['X', 'p', 11]\n",
    "\n",
    "for i in range(yStart, yEnd + 1):\n",
    "    makeScatterPlots(ax, currUniData, i, markers[i - yStart], colors[i - yStart], str(i))\n",
    "\n",
    "ax.set_xlabel(\"Quality of faculty\", size=14)\n",
    "ax.set_ylabel(\"Publications\", size=14)\n",
    "\n",
    "ax.legend([str(i) for i in range(yStart, yEnd + 1)], \n",
    "            title=\"Year\", shadow=True, loc='upper left')\n",
    "\n",
    "\n",
    "# fig.tight_layout()"
   ]
  },
  {
   "cell_type": "code",
   "execution_count": 17,
   "metadata": {},
   "outputs": [
    {
     "name": "stdout",
     "output_type": "stream",
     "text": [
      "<class 'pandas.core.frame.DataFrame'>\n",
      "RangeIndex: 4897 entries, 0 to 4896\n",
      "Data columns (total 11 columns):\n",
      " #   Column           Non-Null Count  Dtype  \n",
      "---  ------           --------------  -----  \n",
      " 0   world_rank       4897 non-null   object \n",
      " 1   university_name  4896 non-null   object \n",
      " 2   national_rank    4896 non-null   object \n",
      " 3   total_score      1101 non-null   float64\n",
      " 4   alumni           4896 non-null   float64\n",
      " 5   award            4895 non-null   float64\n",
      " 6   hici             4895 non-null   float64\n",
      " 7   ns               4875 non-null   float64\n",
      " 8   pub              4895 non-null   float64\n",
      " 9   pcp              4895 non-null   float64\n",
      " 10  year             4897 non-null   int64  \n",
      "dtypes: float64(7), int64(1), object(3)\n",
      "memory usage: 421.0+ KB\n",
      "None\n"
     ]
    }
   ],
   "source": [
    "shanghaiData = loadCSVData(\"../world_university_ranking/shanghaiData.csv\")\n",
    "# info on columns\n",
    "print(shanghaiData.info())"
   ]
  },
  {
   "cell_type": "code",
   "execution_count": 18,
   "metadata": {},
   "outputs": [
    {
     "data": {
      "text/plain": [
       "world_rank            0\n",
       "university_name       1\n",
       "national_rank         1\n",
       "total_score        3796\n",
       "alumni                1\n",
       "award                 2\n",
       "hici                  2\n",
       "ns                   22\n",
       "pub                   2\n",
       "pcp                   2\n",
       "year                  0\n",
       "dtype: int64"
      ]
     },
     "execution_count": 18,
     "metadata": {},
     "output_type": "execute_result"
    }
   ],
   "source": [
    "shanghaiData.isnull().sum()"
   ]
  },
  {
   "cell_type": "code",
   "execution_count": 19,
   "metadata": {},
   "outputs": [
    {
     "name": "stdout",
     "output_type": "stream",
     "text": [
      "Dropped 22 NaN values\n",
      "world_rank         0\n",
      "university_name    0\n",
      "national_rank      0\n",
      "alumni             0\n",
      "award              0\n",
      "hici               0\n",
      "ns                 0\n",
      "pub                0\n",
      "pcp                0\n",
      "year               0\n",
      "dtype: int64\n"
     ]
    }
   ],
   "source": [
    "# total score has 3000 misssing values so we just drop the table\n",
    "try:\n",
    "    shanghaiData = shanghaiData.drop(columns='total_score')\n",
    "except Exception as e:\n",
    "    pass\n",
    "\n",
    "before = shanghaiData.shape[0]\n",
    "shanghaiData = shanghaiData.dropna()\n",
    "\n",
    "print(f\"Dropped {before - shanghaiData.shape[0]} NaN values\")\n",
    "print(shanghaiData.isnull().sum())"
   ]
  },
  {
   "cell_type": "code",
   "execution_count": 20,
   "metadata": {},
   "outputs": [
    {
     "name": "stdout",
     "output_type": "stream",
     "text": [
      "<class 'pandas.core.frame.DataFrame'>\n",
      "Int64Index: 4875 entries, 0 to 4896\n",
      "Data columns (total 10 columns):\n",
      " #   Column           Non-Null Count  Dtype  \n",
      "---  ------           --------------  -----  \n",
      " 0   world_rank       4875 non-null   object \n",
      " 1   university_name  4875 non-null   object \n",
      " 2   national_rank    4875 non-null   object \n",
      " 3   alumni           4875 non-null   float64\n",
      " 4   award            4875 non-null   float64\n",
      " 5   hici             4875 non-null   float64\n",
      " 6   ns               4875 non-null   float64\n",
      " 7   pub              4875 non-null   float64\n",
      " 8   pcp              4875 non-null   float64\n",
      " 9   year             4875 non-null   int64  \n",
      "dtypes: float64(6), int64(1), object(3)\n",
      "memory usage: 418.9+ KB\n"
     ]
    }
   ],
   "source": [
    "shanghaiData.info()"
   ]
  },
  {
   "cell_type": "code",
   "execution_count": 21,
   "metadata": {},
   "outputs": [
    {
     "data": {
      "text/plain": [
       "<matplotlib.legend.Legend at 0x2619ca6b850>"
      ]
     },
     "execution_count": 21,
     "metadata": {},
     "output_type": "execute_result"
    }
   ],
   "source": [
    "# plot 4\n",
    "# scatter plot of publication vs awards\n",
    "%matplotlib qt\n",
    "\n",
    "def makeScatterPlots(ax, df : pd.DataFrame, year : int, marker : str, color : str, label : str):\n",
    "    tmpData = df[df[\"year\"] == year]\n",
    "    # select those data whose award is not 0\n",
    "    tmpData = df[df.award != 0].head(100)\n",
    "\n",
    "    ax.scatter(list(tmpData.award), list(tmpData.ns), \n",
    "            c = color, alpha = .5, s = 100, marker = marker, label = label)\n",
    "\n",
    "years = [2005, 2007, 2011]\n",
    "colors = ['red', 'skyblue', 'purple']\n",
    "        \n",
    "fig, ax = plt.subplots(figsize=(15, 7.5))\n",
    "\n",
    "fig.suptitle(\"Award vs publication for different years\", size = 16)\n",
    "\n",
    "markers = ['*', '8', 10, '+']\n",
    "\n",
    "c = 0\n",
    "for i in years:\n",
    "    makeScatterPlots(ax, shanghaiData, i, markers[c], colors[c], str(i))\n",
    "    c += 1\n",
    "\n",
    "ax.set_xlabel(\"Award\", size=14)\n",
    "ax.set_ylabel(\"Publications\", size=14)\n",
    "\n",
    "ax.legend([str(i) for i in range(yStart, yEnd + 1)], \n",
    "            title=\"Year\", shadow=True, loc='upper left')\n"
   ]
  }
 ],
 "metadata": {
  "interpreter": {
   "hash": "fcf1d46d271c46101d6967829d4a5f475342a2ce08e4944f989fbcdc9bb23690"
  },
  "kernelspec": {
   "display_name": "Python 3.9.0 64-bit",
   "language": "python",
   "name": "python3"
  },
  "language_info": {
   "codemirror_mode": {
    "name": "ipython",
    "version": 3
   },
   "file_extension": ".py",
   "mimetype": "text/x-python",
   "name": "python",
   "nbconvert_exporter": "python",
   "pygments_lexer": "ipython3",
   "version": "3.9.0"
  },
  "orig_nbformat": 4
 },
 "nbformat": 4,
 "nbformat_minor": 2
}
