{
 "cells": [
  {
   "cell_type": "markdown",
   "metadata": {},
   "source": [
    "## Lab 06 - Scatter and contour plots with custom colormaps(rainbow or hue)"
   ]
  },
  {
   "cell_type": "markdown",
   "metadata": {},
   "source": [
    "#### Used libraries\n",
    "\n",
    "1. **pandas**  \n",
    "    `pip install pandas`\n",
    "\n",
    "1. **plotly**  \n",
    "    `pip install plotly`\n",
    "\n",
    "1. **matplotlib**   \n",
    "    `pip install matplotlib`   \n",
    "    inside matplotlib we use pyplot and colors\n",
    "\n"
   ]
  },
  {
   "cell_type": "code",
   "execution_count": 1,
   "metadata": {},
   "outputs": [],
   "source": [
    "# imports\n",
    "import pandas as pd \n",
    "import math\n",
    "import matplotlib as mpl\n",
    "import matplotlib.pyplot as plt\n",
    "import matplotlib.colors as clr\n",
    "\n",
    "import numpy as np\n",
    "import os\n"
   ]
  },
  {
   "cell_type": "markdown",
   "metadata": {},
   "source": [
    "The university dataset has many .csv files.\n",
    "\n",
    "For this experiment we will be exploring only the cwurData.csv and timesData.csv"
   ]
  },
  {
   "cell_type": "code",
   "execution_count": 2,
   "metadata": {},
   "outputs": [],
   "source": [
    "def loadCSVData(path):\n",
    "    '''\n",
    "        Function helps load the given path name if it is a CSV file into a DataFrame using pandas\n",
    "    '''\n",
    "    if os.path.splitext(path)[1] == \".csv\": # read only csv files from the dataset\n",
    "        df = pd.read_csv(path, delimiter=',')\n",
    "\n",
    "        return df\n",
    "    return None"
   ]
  },
  {
   "cell_type": "markdown",
   "metadata": {},
   "source": [
    "#### Dataset timesData.csv for other tasks"
   ]
  },
  {
   "cell_type": "code",
   "execution_count": 3,
   "metadata": {},
   "outputs": [
    {
     "name": "stdout",
     "output_type": "stream",
     "text": [
      "<class 'pandas.core.frame.DataFrame'>\n",
      "RangeIndex: 2603 entries, 0 to 2602\n",
      "Data columns (total 14 columns):\n",
      " #   Column                  Non-Null Count  Dtype  \n",
      "---  ------                  --------------  -----  \n",
      " 0   world_rank              2603 non-null   object \n",
      " 1   university_name         2603 non-null   object \n",
      " 2   country                 2603 non-null   object \n",
      " 3   teaching                2603 non-null   float64\n",
      " 4   international           2603 non-null   object \n",
      " 5   research                2603 non-null   float64\n",
      " 6   citations               2603 non-null   float64\n",
      " 7   income                  2603 non-null   object \n",
      " 8   total_score             2603 non-null   object \n",
      " 9   num_students            2544 non-null   object \n",
      " 10  student_staff_ratio     2544 non-null   float64\n",
      " 11  international_students  2536 non-null   object \n",
      " 12  female_male_ratio       2370 non-null   object \n",
      " 13  year                    2603 non-null   int64  \n",
      "dtypes: float64(4), int64(1), object(9)\n",
      "memory usage: 284.8+ KB\n",
      "None\n"
     ]
    }
   ],
   "source": [
    "# loading timesData.csv\n",
    "timesUniData = loadCSVData(\"../world_university_ranking/timesData.csv\")\n",
    "\n",
    "# info on columns\n",
    "print(timesUniData.info())"
   ]
  },
  {
   "cell_type": "code",
   "execution_count": 4,
   "metadata": {},
   "outputs": [
    {
     "data": {
      "text/plain": [
       "world_rank                  0\n",
       "university_name             0\n",
       "country                     0\n",
       "teaching                    0\n",
       "international               0\n",
       "research                    0\n",
       "citations                   0\n",
       "income                      0\n",
       "total_score                 0\n",
       "num_students               59\n",
       "student_staff_ratio        59\n",
       "international_students     67\n",
       "female_male_ratio         233\n",
       "year                        0\n",
       "dtype: int64"
      ]
     },
     "execution_count": 4,
     "metadata": {},
     "output_type": "execute_result"
    }
   ],
   "source": [
    "timesUniData.isnull().sum()"
   ]
  },
  {
   "cell_type": "code",
   "execution_count": 5,
   "metadata": {},
   "outputs": [
    {
     "name": "stdout",
     "output_type": "stream",
     "text": [
      "Dropped 241 NaN values\n",
      "world_rank                0\n",
      "university_name           0\n",
      "country                   0\n",
      "teaching                  0\n",
      "international             0\n",
      "research                  0\n",
      "citations                 0\n",
      "income                    0\n",
      "total_score               0\n",
      "num_students              0\n",
      "student_staff_ratio       0\n",
      "international_students    0\n",
      "female_male_ratio         0\n",
      "year                      0\n",
      "dtype: int64\n"
     ]
    }
   ],
   "source": [
    "before = timesUniData.shape[0]\n",
    "timesUniData = timesUniData.dropna()\n",
    "\n",
    "print(f\"Dropped {before - timesUniData.shape[0]} NaN values\")\n",
    "print(timesUniData.isnull().sum())"
   ]
  },
  {
   "cell_type": "code",
   "execution_count": 6,
   "metadata": {},
   "outputs": [],
   "source": [
    "def parseNumberOfStudents(df : pd.Series) -> list[float]:\n",
    "    if df.dtype == object:\n",
    "        tmp = [item.replace(',', '') for ind, item in df.iteritems() ]\n",
    "        return list(map(float, tmp))\n",
    "    else:\n",
    "        return list(df)\n",
    "\n",
    "def parseGenderRatio(df : pd.Series) -> list[float]:\n",
    "    lst = []\n",
    "    ratio = 0\n",
    "\n",
    "    if df.dtype == object:\n",
    "        for ind, item in df.iteritems():\n",
    "            try:\n",
    "                tmp = list(map(int, item.split(\":\") ) )\n",
    "                lst.append(tmp[0]) \n",
    "            except:\n",
    "                lst.append(0) # no data\n",
    "\n",
    "        return lst\n",
    "    else:\n",
    "        return list(df)\n",
    "\n",
    "# international student is given in the format 27% so we can just remove the % to\n",
    "# convert it into a numeric data type\n",
    "def parseInternationalStudents(df : pd.Series) -> list[float]:\n",
    "    if df.dtype == object:\n",
    "        tmp = [item.replace('%', '') for ind, item in df.iteritems() ]\n",
    "        return list(map(float, tmp))\n",
    "    else:\n",
    "        return list(df)\n",
    "\n",
    "#convert income to float 64\n",
    "def parseObjects(df : pd.Series) -> list[float]:\n",
    "    if df.dtype == object:\n",
    "        tmp = []\n",
    "        mx, mn = -1e9, 1e9\n",
    "\n",
    "        for ind, item  in df.iteritems():\n",
    "            try:\n",
    "                tmp.append(float(item))\n",
    "\n",
    "                if float(item) > mx:\n",
    "                    mx = float(item)\n",
    "                \n",
    "                if float(item) < mn:\n",
    "                    mn = float(item)\n",
    "\n",
    "            except Exception as e:\n",
    "                # assign random value except assign 0\n",
    "                tmp.append(np.random.randint(mn, mx))\n",
    "            \n",
    "        return tmp\n",
    "    else:\n",
    "        return list(df)\n"
   ]
  },
  {
   "cell_type": "code",
   "execution_count": 7,
   "metadata": {},
   "outputs": [
    {
     "name": "stdout",
     "output_type": "stream",
     "text": [
      "<class 'pandas.core.frame.DataFrame'>\n",
      "Int64Index: 2362 entries, 1 to 2602\n",
      "Data columns (total 14 columns):\n",
      " #   Column                  Non-Null Count  Dtype  \n",
      "---  ------                  --------------  -----  \n",
      " 0   world_rank              2362 non-null   object \n",
      " 1   university_name         2362 non-null   object \n",
      " 2   country                 2362 non-null   object \n",
      " 3   teaching                2362 non-null   float64\n",
      " 4   international           2362 non-null   float64\n",
      " 5   research                2362 non-null   float64\n",
      " 6   citations               2362 non-null   float64\n",
      " 7   income                  2362 non-null   float64\n",
      " 8   total_score             2362 non-null   float64\n",
      " 9   num_students            2362 non-null   float64\n",
      " 10  student_staff_ratio     2362 non-null   float64\n",
      " 11  international_students  2362 non-null   float64\n",
      " 12  female_male_ratio       2362 non-null   int64  \n",
      " 13  year                    2362 non-null   int64  \n",
      "dtypes: float64(9), int64(2), object(3)\n",
      "memory usage: 276.8+ KB\n",
      "None\n"
     ]
    }
   ],
   "source": [
    "# here since number of students and gender ratio is given in strings we need to\n",
    "# convert them into numeric types\n",
    "\n",
    "timesUniData.num_students = parseNumberOfStudents(timesUniData.num_students)\n",
    "pd.to_numeric(timesUniData.num_students)\n",
    "\n",
    "timesUniData.female_male_ratio = parseGenderRatio(timesUniData.female_male_ratio)\n",
    "pd.to_numeric(timesUniData.female_male_ratio)\n",
    "\n",
    "timesUniData.international_students = parseInternationalStudents(\n",
    "    timesUniData.international_students)\n",
    "pd.to_numeric(timesUniData.international_students)\n",
    "\n",
    "timesUniData.income = parseObjects(timesUniData.income)\n",
    "pd.to_numeric(timesUniData.income)\n",
    "\n",
    "total_score = parseObjects(timesUniData.total_score)\n",
    "timesUniData.total_score = total_score\n",
    "pd.to_numeric(timesUniData.total_score)\n",
    "\n",
    "timesUniData.international = parseObjects(timesUniData.international)\n",
    "pd.to_numeric(timesUniData.international)\n",
    "\n",
    "print(timesUniData.info())"
   ]
  },
  {
   "cell_type": "code",
   "execution_count": 8,
   "metadata": {},
   "outputs": [
    {
     "name": "stdout",
     "output_type": "stream",
     "text": [
      "[112.15, 995.95, 779.8, 940.6, 553.7, 396.45, 753.0, 908.9, 711.05, 756.4, 587.55, 1809.3, 1330.35, 1910.3, 1018.8, 1071.2, 758.6, 2089.3, 594.25, 1288.7, 916.7, 1579.6, 1069.7, 388.7, 1784.55, 2102.8, 483.3, 2201.0, 2006.4, 2507.6]\n"
     ]
    }
   ],
   "source": [
    "# plot 1\n",
    "# compare the teaching with world ranking for the top 50 universities\n",
    "# with international score as continous color map and number of students as size\n",
    "%matplotlib qt \n",
    "\n",
    "year = 2016\n",
    "num_uni = 30\n",
    "\n",
    "topUnis = timesUniData[timesUniData.year == year].iloc[: num_uni]\n",
    "# print(topUnis)\n",
    "\n",
    "colors = ['Red', 'Orange', 'Blue', 'Violet']\n",
    "cmap = mpl.colors.LinearSegmentedColormap.from_list('my_colormap', colors) # create a continous color map\n",
    "norm = clr.Normalize(vmin=0, vmax=100)\n",
    "\n",
    "sizes = list(map(lambda x : x / 20, list(topUnis.num_students)) )\n",
    "print(sizes)\n",
    "\n",
    "\n",
    "fig, (ax1, ax2) = plt.subplots(ncols=2, figsize=(15, 7.5))\n",
    "\n",
    "fig.suptitle(f\"Worlds top {num_uni} univeristy with number of students(size) and international score(scale) - {year}\",\n",
    "    size = 16)\n",
    "\n",
    "fig.subplots_adjust(top=0.88)\n",
    "# plt.figure(figsize=(10, 6))\n",
    "\n",
    "scatter1 = ax1.scatter(x = topUnis.world_rank, y = topUnis.teaching, s=sizes, alpha = .5)\n",
    "ax1.set_title(\"Original plot\")\n",
    "ax1.set_xticks(ticks=np.arange(1, 35, 3))\n",
    "ax1.set_yticks(ticks=np.arange(50, 100, step = 10) )\n",
    "ax1.set_ylabel(\"Teaching\", fontsize=12)\n",
    "ax1.set_xlabel(\"World ranking\", fontsize=12)\n",
    "\n",
    "scatter2 = ax2.scatter(x = topUnis.world_rank, y = topUnis.teaching, s=sizes, alpha = .5,\n",
    "            c = topUnis.teaching, cmap = cmap)\n",
    "ax2.set_title(\"Colormapped plot\")\n",
    "ax2.set_xticks(ticks=np.arange(1, 35, 3))\n",
    "ax2.set_yticks(ticks=np.arange(50, 100, step = 10) )\n",
    "ax2.set_ylabel(\"Teaching\")\n",
    "ax2.set_xlabel(\"World ranking\")\n",
    "\n",
    "\n",
    "cBar = fig.colorbar(mpl.cm.ScalarMappable(cmap = cmap, norm = norm)) # map colormap using scalarMappable\n",
    "cBar.ax.tick_params(labelsize = 8)\n",
    "cBar.ax.set_title(\"International score\", fontsize = 10)\n",
    "fig.tight_layout()"
   ]
  },
  {
   "cell_type": "code",
   "execution_count": 16,
   "metadata": {},
   "outputs": [],
   "source": [
    "#plot 2\n",
    "# contour plot of number of students vs income as a contour of top 10 university of 2014\n",
    "%matplotlib qt \n",
    "\n",
    "year = 2014\n",
    "num_uni = 20\n",
    "\n",
    "uniData = timesUniData[timesUniData.year == year]\n",
    "\n",
    "teachingData = np.array(uniData.teaching)\n",
    "totalScore = np.array(uniData.total_score)\n",
    "\n",
    "X, Y = np.meshgrid(teachingData, teachingData)\n",
    "Z = 2 * (X + Y)\n",
    "\n",
    "# print(Y)\n",
    "# print(X)\n",
    "# print(Z)\n",
    "\n",
    "fig, (ax1, ax2) = plt.subplots(ncols=2, figsize=(10, 6))\n",
    "fig.suptitle(f\"Contour map of {num_uni} univeristies taking teaching as attribute\",\n",
    "    size = 16)\n",
    "\n",
    "fig.subplots_adjust(top=0.88)\n",
    "\n",
    "# setting up the color map\n",
    "colors = ['Yellow', 'Green', 'Blue', 'Violet', 'Red', 'Orange', 'Indigo']\n",
    "cMap = mpl.colors.ListedColormap(colors)\n",
    "Norm = mpl.colors.Normalize(vmin=0, vmax=100)\n",
    "\n",
    "# use tricontour to directly supply, unordered, irregularly spaced coordinates\n",
    "\n",
    "ax1.contourf(X, Y, Z)\n",
    "ax1.set_title(\"Default colormap\", fontsize=14)\n",
    "\n",
    "# scatter1 = ax2.plot(rankingList, teachingVals, 'o', color = 'black')\n",
    "contour = ax2.contourf(X, Y, Z, cmap = cMap)\n",
    "ax2.set_title(\"Rainbow colormap\", fontsize=16)\n",
    "\n",
    "# display colorbar\n",
    "cBar = fig.colorbar(contour)\n",
    "cBar.ax.tick_params(labelsize = 8)\n",
    "cBar.ax.set_title(\"Score\")\n",
    "\n",
    "fig.tight_layout()"
   ]
  },
  {
   "cell_type": "code",
   "execution_count": 19,
   "metadata": {},
   "outputs": [],
   "source": [
    "#plot 3\n",
    "# scatter plot of Income vs Research for the year 2013\n",
    "year = 2013\n",
    "\n",
    "uniData = timesUniData[timesUniData.year == year]\n",
    "\n",
    "income = list(uniData.income)\n",
    "research = list(uniData.research)\n",
    "citations = list(uniData.citations)\n",
    "\n",
    "colors = ['Red', 'Orange', 'Blue', 'Violet']\n",
    "cmap = clr.LinearSegmentedColormap.from_list('my_colormap', colors) # create a continous color map\n",
    "norm = clr.Normalize(vmin=0, vmax=100)\n",
    "\n",
    "fig, ax = plt.subplots(figsize = (10, 6))\n",
    "\n",
    "scatter1 = ax.scatter(x = income, y = research, c = citations,\n",
    "        alpha = .5, cmap = cmap)\n",
    "ax.set_title(f\"Income vs research for year {year} with citation as color\", fontsize=18)\n",
    "ax.set_xlabel(\"Income\", fontsize=12)\n",
    "ax.set_ylabel(\"Research\", fontsize=12)\n",
    "\n",
    "plt.grid()\n",
    "\n",
    "cBar = fig.colorbar(mpl.cm.ScalarMappable(cmap = cmap, norm = norm))\n",
    "cBar.ax.set_title(\"Citations\")\n",
    "cBar.ax.tick_params(labelsize = 8)"
   ]
  },
  {
   "cell_type": "code",
   "execution_count": 11,
   "metadata": {},
   "outputs": [
    {
     "name": "stdout",
     "output_type": "stream",
     "text": [
      "<class 'pandas.core.frame.DataFrame'>\n",
      "RangeIndex: 2200 entries, 0 to 2199\n",
      "Data columns (total 14 columns):\n",
      " #   Column                Non-Null Count  Dtype  \n",
      "---  ------                --------------  -----  \n",
      " 0   world_rank            2200 non-null   int64  \n",
      " 1   institution           2200 non-null   object \n",
      " 2   country               2200 non-null   object \n",
      " 3   national_rank         2200 non-null   int64  \n",
      " 4   quality_of_education  2200 non-null   int64  \n",
      " 5   alumni_employment     2200 non-null   int64  \n",
      " 6   quality_of_faculty    2200 non-null   int64  \n",
      " 7   publications          2200 non-null   int64  \n",
      " 8   influence             2200 non-null   int64  \n",
      " 9   citations             2200 non-null   int64  \n",
      " 10  broad_impact          2000 non-null   float64\n",
      " 11  patents               2200 non-null   int64  \n",
      " 12  score                 2200 non-null   float64\n",
      " 13  year                  2200 non-null   int64  \n",
      "dtypes: float64(2), int64(10), object(2)\n",
      "memory usage: 240.8+ KB\n",
      "None\n"
     ]
    }
   ],
   "source": [
    "# file cwurData.csv\n",
    "currUniData = loadCSVData(\"../world_university_ranking/cwurData.csv\")\n",
    "print(currUniData.info())"
   ]
  },
  {
   "cell_type": "code",
   "execution_count": 12,
   "metadata": {},
   "outputs": [
    {
     "data": {
      "text/plain": [
       "world_rank                0\n",
       "institution               0\n",
       "country                   0\n",
       "national_rank             0\n",
       "quality_of_education      0\n",
       "alumni_employment         0\n",
       "quality_of_faculty        0\n",
       "publications              0\n",
       "influence                 0\n",
       "citations                 0\n",
       "broad_impact            200\n",
       "patents                   0\n",
       "score                     0\n",
       "year                      0\n",
       "dtype: int64"
      ]
     },
     "execution_count": 12,
     "metadata": {},
     "output_type": "execute_result"
    }
   ],
   "source": [
    "currUniData.isnull().sum()"
   ]
  },
  {
   "cell_type": "code",
   "execution_count": 13,
   "metadata": {},
   "outputs": [
    {
     "name": "stdout",
     "output_type": "stream",
     "text": [
      "Dropped 200 NaN values\n",
      "world_rank              0\n",
      "institution             0\n",
      "country                 0\n",
      "national_rank           0\n",
      "quality_of_education    0\n",
      "alumni_employment       0\n",
      "quality_of_faculty      0\n",
      "publications            0\n",
      "influence               0\n",
      "citations               0\n",
      "broad_impact            0\n",
      "patents                 0\n",
      "score                   0\n",
      "year                    0\n",
      "dtype: int64\n"
     ]
    }
   ],
   "source": [
    "before = currUniData.shape[0]\n",
    "currUniData = currUniData.dropna()\n",
    "\n",
    "print(f\"Dropped {before - currUniData.shape[0]} NaN values\")\n",
    "print(currUniData.isnull().sum())"
   ]
  },
  {
   "cell_type": "code",
   "execution_count": 14,
   "metadata": {},
   "outputs": [
    {
     "name": "stdout",
     "output_type": "stream",
     "text": [
      "<class 'pandas.core.frame.DataFrame'>\n",
      "Int64Index: 2000 entries, 200 to 2199\n",
      "Data columns (total 14 columns):\n",
      " #   Column                Non-Null Count  Dtype  \n",
      "---  ------                --------------  -----  \n",
      " 0   world_rank            2000 non-null   int64  \n",
      " 1   institution           2000 non-null   object \n",
      " 2   country               2000 non-null   object \n",
      " 3   national_rank         2000 non-null   int64  \n",
      " 4   quality_of_education  2000 non-null   int64  \n",
      " 5   alumni_employment     2000 non-null   int64  \n",
      " 6   quality_of_faculty    2000 non-null   int64  \n",
      " 7   publications          2000 non-null   int64  \n",
      " 8   influence             2000 non-null   int64  \n",
      " 9   citations             2000 non-null   int64  \n",
      " 10  broad_impact          2000 non-null   float64\n",
      " 11  patents               2000 non-null   int64  \n",
      " 12  score                 2000 non-null   float64\n",
      " 13  year                  2000 non-null   int64  \n",
      "dtypes: float64(2), int64(10), object(2)\n",
      "memory usage: 234.4+ KB\n"
     ]
    }
   ],
   "source": [
    "currUniData.info()"
   ]
  },
  {
   "cell_type": "code",
   "execution_count": 21,
   "metadata": {},
   "outputs": [],
   "source": [
    "# plot 4\n",
    "# scatter plot of world rank vs publications\n",
    "# in current university data\n",
    "year = 2014\n",
    "\n",
    "uniData = currUniData[currUniData.year == year].iloc[10:,]\n",
    "\n",
    "publications = list(uniData.publications)\n",
    "world_rank = list(uniData.world_rank)\n",
    "impact = list(uniData.broad_impact)\n",
    "\n",
    "colors = ['tomato', 'yellow', 'turquoise', 'darkorchid']\n",
    "cmap = clr.LinearSegmentedColormap.from_list('my_colormap', colors) # create a continous color map\n",
    "norm = clr.Normalize(vmin=0, vmax=100)\n",
    "\n",
    "fig, ax = plt.subplots(figsize = (10, 7))\n",
    "\n",
    "scatter1 = ax.scatter(x = world_rank, y = publications, c = impact, s = 14,\n",
    "        alpha = .8, cmap = cmap)\n",
    "ax.set_title(f\"World rank vs publications for the {year} with impact as color\", fontsize=15)\n",
    "ax.set_xlabel(\"World rank\", fontsize=13)\n",
    "ax.set_ylabel(\"Publications\", fontsize=13)\n",
    "ax.invert_xaxis()\n",
    "ax.invert_yaxis()\n",
    "\n",
    "plt.grid()\n",
    "\n",
    "cBar = fig.colorbar(mpl.cm.ScalarMappable(cmap = cmap, norm = norm))\n",
    "cBar.ax.set_title(\"Impact\")\n",
    "cBar.ax.tick_params(labelsize = 8)"
   ]
  }
 ],
 "metadata": {
  "interpreter": {
   "hash": "fcf1d46d271c46101d6967829d4a5f475342a2ce08e4944f989fbcdc9bb23690"
  },
  "kernelspec": {
   "display_name": "Python 3.9.0 64-bit",
   "language": "python",
   "name": "python3"
  },
  "language_info": {
   "codemirror_mode": {
    "name": "ipython",
    "version": 3
   },
   "file_extension": ".py",
   "mimetype": "text/x-python",
   "name": "python",
   "nbconvert_exporter": "python",
   "pygments_lexer": "ipython3",
   "version": "3.9.0"
  },
  "orig_nbformat": 4
 },
 "nbformat": 4,
 "nbformat_minor": 2
}
