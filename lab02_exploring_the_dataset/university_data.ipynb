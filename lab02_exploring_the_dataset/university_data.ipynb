{
 "cells": [
  {
   "cell_type": "markdown",
   "metadata": {},
   "source": [
    "Identified dataset : world university ranking"
   ]
  },
  {
   "cell_type": "code",
   "execution_count": 1,
   "metadata": {},
   "outputs": [],
   "source": [
    "# imports\n",
    "import pandas as pd\n",
    "import plotly.express as px\n",
    "import plotly.graph_objects as go\n",
    "from plotly.subplots import make_subplots\n",
    "\n",
    "\n",
    "import numpy as np\n",
    "import random as rd\n",
    "import os\n",
    "import re\n",
    "import math\n"
   ]
  },
  {
   "cell_type": "markdown",
   "metadata": {},
   "source": [
    "The university dataset has many .csv files.\n",
    "We will be exploring those files using pandas library to read and parse csv files\n"
   ]
  },
  {
   "cell_type": "code",
   "execution_count": 2,
   "metadata": {},
   "outputs": [],
   "source": [
    "def loadCSVData(path):\n",
    "    '''\n",
    "        Function helps load the given path name if it is a CSV file into a DataFrame using pandas\n",
    "    '''\n",
    "    if os.path.splitext(path)[1] == \".csv\": # read only csv files from the dataset\n",
    "        df = pd.read_csv(path, delimiter=',')\n",
    "\n",
    "        return df\n",
    "    return None"
   ]
  },
  {
   "cell_type": "code",
   "execution_count": 3,
   "metadata": {},
   "outputs": [
    {
     "name": "stdout",
     "output_type": "stream",
     "text": [
      "<class 'pandas.core.frame.DataFrame'>\n",
      "RangeIndex: 2200 entries, 0 to 2199\n",
      "Data columns (total 14 columns):\n",
      " #   Column                Non-Null Count  Dtype  \n",
      "---  ------                --------------  -----  \n",
      " 0   world_rank            2200 non-null   int64  \n",
      " 1   institution           2200 non-null   object \n",
      " 2   country               2200 non-null   object \n",
      " 3   national_rank         2200 non-null   int64  \n",
      " 4   quality_of_education  2200 non-null   int64  \n",
      " 5   alumni_employment     2200 non-null   int64  \n",
      " 6   quality_of_faculty    2200 non-null   int64  \n",
      " 7   publications          2200 non-null   int64  \n",
      " 8   influence             2200 non-null   int64  \n",
      " 9   citations             2200 non-null   int64  \n",
      " 10  broad_impact          2000 non-null   float64\n",
      " 11  patents               2200 non-null   int64  \n",
      " 12  score                 2200 non-null   float64\n",
      " 13  year                  2200 non-null   int64  \n",
      "dtypes: float64(2), int64(10), object(2)\n",
      "memory usage: 240.8+ KB\n",
      "None\n"
     ]
    }
   ],
   "source": [
    "# first file current world data.csv i.e. cwurData.csv\n",
    "\n",
    "currUniData = loadCSVData(\"../world_university_ranking/cwurData.csv\");\n",
    "print(currUniData.info())\n"
   ]
  },
  {
   "cell_type": "code",
   "execution_count": 4,
   "metadata": {},
   "outputs": [
    {
     "data": {
      "text/plain": [
       "world_rank                0\n",
       "institution               0\n",
       "country                   0\n",
       "national_rank             0\n",
       "quality_of_education      0\n",
       "alumni_employment         0\n",
       "quality_of_faculty        0\n",
       "publications              0\n",
       "influence                 0\n",
       "citations                 0\n",
       "broad_impact            200\n",
       "patents                   0\n",
       "score                     0\n",
       "year                      0\n",
       "dtype: int64"
      ]
     },
     "execution_count": 4,
     "metadata": {},
     "output_type": "execute_result"
    }
   ],
   "source": [
    "currUniData.isnull().sum()"
   ]
  },
  {
   "cell_type": "code",
   "execution_count": 5,
   "metadata": {},
   "outputs": [],
   "source": [
    "# comparative task 1 : compare score of top 5 universities over years from 2012 - 2015\n",
    "\n",
    "def filter_scores(df : pd.DataFrame, uni_names : list[str]) -> pd.DataFrame :  \n",
    "    return df.query(f\"institution in {uni_names}\")\n",
    "\n",
    "uni_names = list(currUniData.head(5)[\"institution\"]) # top 5 university for year 2012\n",
    "\n",
    "workingData = filter_scores(currUniData, uni_names)\n",
    "# print(workingData)\n",
    "\n",
    "fig = px.bar(workingData, x=\"year\", y=\"score\", color=\"institution\", barmode=\"group\",\n",
    "        title=\"Comparision of scores between the top five university from 2012 - 2015\", text=\"score\")\n",
    "fig.show(renderer=\"browser\", auto_open=True)\n"
   ]
  },
  {
   "cell_type": "code",
   "execution_count": 6,
   "metadata": {},
   "outputs": [],
   "source": [
    "# composition task 1\n",
    "# top 20 countries with most universities in year 2015\n",
    "# used file : cwurdata.csv\n",
    "year = 2015\n",
    "\n",
    "def getUniCount(df : pd.DataFrame) -> pd.DataFrame:\n",
    "    countryCount = {}\n",
    "\n",
    "    for ind, row in df.iterrows(): # reads only first 1000 data or less\n",
    "        cname = row[\"country\"]\n",
    "\n",
    "        if cname in countryCount:\n",
    "            countryCount[cname] += 1\n",
    "        else:\n",
    "            countryCount[cname] = 1\n",
    "    \n",
    "    countDf = pd.DataFrame(countryCount.items(), columns=['Country', 'Number of university']) # create a dataframe\n",
    "    return countDf.sort_values(by=[\"Number of university\"], ascending=False) # sort by number of university in descending order\n",
    "\n",
    "countData = getUniCount(currUniData[currUniData[\"year\"] == year])\n",
    "countData = countData.iloc[:20, :] # get the first 20 countries\n",
    "\n",
    "fig = px.bar(countData, x=\"Country\", y=\"Number of university\",\n",
    "        color = \"Number of university\", color_continuous_scale='magenta',\n",
    "        text = \"Number of university\",\n",
    "        title = f\"Top 20 countires with most universities in the year {year}\"\n",
    "    )\n",
    "\n",
    "fig.update_layout(title_x = 0.5)\n",
    "        \n",
    "fig.show(renderer=\"browser\", auto_open=True)    "
   ]
  },
  {
   "cell_type": "markdown",
   "metadata": {},
   "source": [
    "Using another dataset timesData.csv for other tasks"
   ]
  },
  {
   "cell_type": "code",
   "execution_count": 7,
   "metadata": {},
   "outputs": [
    {
     "name": "stdout",
     "output_type": "stream",
     "text": [
      "<class 'pandas.core.frame.DataFrame'>\n",
      "RangeIndex: 2603 entries, 0 to 2602\n",
      "Data columns (total 14 columns):\n",
      " #   Column                  Non-Null Count  Dtype  \n",
      "---  ------                  --------------  -----  \n",
      " 0   world_rank              2603 non-null   object \n",
      " 1   university_name         2603 non-null   object \n",
      " 2   country                 2603 non-null   object \n",
      " 3   teaching                2603 non-null   float64\n",
      " 4   international           2603 non-null   object \n",
      " 5   research                2603 non-null   float64\n",
      " 6   citations               2603 non-null   float64\n",
      " 7   income                  2603 non-null   object \n",
      " 8   total_score             2603 non-null   object \n",
      " 9   num_students            2544 non-null   object \n",
      " 10  student_staff_ratio     2544 non-null   float64\n",
      " 11  international_students  2536 non-null   object \n",
      " 12  female_male_ratio       2370 non-null   object \n",
      " 13  year                    2603 non-null   int64  \n",
      "dtypes: float64(4), int64(1), object(9)\n",
      "memory usage: 284.8+ KB\n",
      "None\n"
     ]
    }
   ],
   "source": [
    "# loading timesData.csv\n",
    "timesUniData = loadCSVData(\"../world_university_ranking/timesData.csv\")\n",
    "\n",
    "# info on columns\n",
    "print(timesUniData.info())"
   ]
  },
  {
   "cell_type": "code",
   "execution_count": 8,
   "metadata": {},
   "outputs": [
    {
     "name": "stdout",
     "output_type": "stream",
     "text": [
      "world_rank                  0\n",
      "university_name             0\n",
      "country                     0\n",
      "teaching                    0\n",
      "international               0\n",
      "research                    0\n",
      "citations                   0\n",
      "income                      0\n",
      "total_score                 0\n",
      "num_students               59\n",
      "student_staff_ratio        59\n",
      "international_students     67\n",
      "female_male_ratio         233\n",
      "year                        0\n",
      "dtype: int64\n"
     ]
    }
   ],
   "source": [
    "print(timesUniData.isnull().sum())"
   ]
  },
  {
   "cell_type": "code",
   "execution_count": 9,
   "metadata": {},
   "outputs": [
    {
     "name": "stdout",
     "output_type": "stream",
     "text": [
      "Dropped 241 NaN values\n",
      "world_rank                0\n",
      "university_name           0\n",
      "country                   0\n",
      "teaching                  0\n",
      "international             0\n",
      "research                  0\n",
      "citations                 0\n",
      "income                    0\n",
      "total_score               0\n",
      "num_students              0\n",
      "student_staff_ratio       0\n",
      "international_students    0\n",
      "female_male_ratio         0\n",
      "year                      0\n",
      "dtype: int64\n"
     ]
    }
   ],
   "source": [
    "before = timesUniData.shape[0]\n",
    "timesUniData = timesUniData.dropna()\n",
    "\n",
    "print(f\"Dropped {before - timesUniData.shape[0]} NaN values\")\n",
    "print(timesUniData.isnull().sum())"
   ]
  },
  {
   "cell_type": "code",
   "execution_count": 10,
   "metadata": {},
   "outputs": [],
   "source": [
    "def parseNumberOfStudents(df : pd.Series) -> list[float]:\n",
    "    if df.dtype == object:\n",
    "        tmp = [item.replace(',', '') for ind, item in df.iteritems() ]\n",
    "        return list(map(float, tmp))\n",
    "    else:\n",
    "        return list(df)\n",
    "\n",
    "def parseGenderRatio(df : pd.Series) -> list[float]:\n",
    "    lst = []\n",
    "    ratio = 0\n",
    "\n",
    "    if df.dtype == object:\n",
    "        for ind, item in df.iteritems():\n",
    "            try:\n",
    "                tmp = list(map(int, item.split(\":\") ) )\n",
    "                lst.append(tmp[0]) \n",
    "            except ZeroDivisionError:\n",
    "                lst.append(100)\n",
    "            except:\n",
    "                lst.append(0) # no data\n",
    "\n",
    "        return lst\n",
    "    else:\n",
    "        return list(df)"
   ]
  },
  {
   "cell_type": "code",
   "execution_count": 11,
   "metadata": {},
   "outputs": [
    {
     "name": "stdout",
     "output_type": "stream",
     "text": [
      "<class 'pandas.core.frame.DataFrame'>\n",
      "Int64Index: 2362 entries, 1 to 2602\n",
      "Data columns (total 14 columns):\n",
      " #   Column                  Non-Null Count  Dtype  \n",
      "---  ------                  --------------  -----  \n",
      " 0   world_rank              2362 non-null   object \n",
      " 1   university_name         2362 non-null   object \n",
      " 2   country                 2362 non-null   object \n",
      " 3   teaching                2362 non-null   float64\n",
      " 4   international           2362 non-null   object \n",
      " 5   research                2362 non-null   float64\n",
      " 6   citations               2362 non-null   float64\n",
      " 7   income                  2362 non-null   object \n",
      " 8   total_score             2362 non-null   object \n",
      " 9   num_students            2362 non-null   float64\n",
      " 10  student_staff_ratio     2362 non-null   float64\n",
      " 11  international_students  2362 non-null   object \n",
      " 12  female_male_ratio       2362 non-null   int64  \n",
      " 13  year                    2362 non-null   int64  \n",
      "dtypes: float64(5), int64(2), object(7)\n",
      "memory usage: 276.8+ KB\n",
      "None\n"
     ]
    }
   ],
   "source": [
    "# here since number of students and gender ratio is given in strings we need to\n",
    "# convert them into numeric types\n",
    "\n",
    "num_stud = parseNumberOfStudents(timesUniData.num_students)\n",
    "timesUniData.num_students = num_stud\n",
    "pd.to_numeric(timesUniData.num_students)\n",
    "\n",
    "gender_ratio = parseGenderRatio(timesUniData.female_male_ratio)\n",
    "timesUniData.female_male_ratio = gender_ratio\n",
    "pd.to_numeric(timesUniData.female_male_ratio)\n",
    "\n",
    "print(timesUniData.info())"
   ]
  },
  {
   "cell_type": "code",
   "execution_count": 12,
   "metadata": {},
   "outputs": [],
   "source": [
    "# comparision task 2\n",
    "# polar chart of teaching, international outlook, research, citations, income, gender ratio for top 3 universities in the year 2016\n",
    "# overlapped with each other\n",
    "year = 2016\n",
    "\n",
    "uni2016 = timesUniData[timesUniData[\"year\"] == year]\n",
    "topUnis = uni2016.iloc[:3,:]\n",
    "\n",
    "goScatterData = [] # to store scatter plots data\n",
    "\n",
    "for ind, row in topUnis.iterrows():\n",
    "    goScatterData.append(go.Scatterpolar(\n",
    "        r = [row.teaching, row.international, row.research, row.citations, \n",
    "                row.income, row.female_male_ratio ],\n",
    "        theta = [\"teaching\", \"International popularity\", \"Research\", \"Citations\", \"Income\", \"Female to male ratio\"],\n",
    "        name = row.university_name,\n",
    "        fill='toself'\n",
    "    ))\n",
    "\n",
    "layout = dict(\n",
    "    title = 'Polar chart of teaching, research, citations, income, gender ratio of the top University for the year 2016'\n",
    ")\n",
    "\n",
    "fig = go.Figure(data = goScatterData, layout=layout)\n",
    "fig.show(renderer=\"browser\", auto_open=True)    "
   ]
  },
  {
   "cell_type": "code",
   "execution_count": 13,
   "metadata": {},
   "outputs": [],
   "source": [
    "# composition task 2\n",
    "# Pie chart comparing the number of students of the top 10 university for the year 2015\n",
    "year = 2015\n",
    "\n",
    "uni2015 = timesUniData[timesUniData[\"year\"] == year]\n",
    "topUnis = uni2015.iloc[:10, :]\n",
    "\n",
    "\n",
    "goPieData = go.Pie(\n",
    "    values = topUnis.num_students, \n",
    "    labels = topUnis.university_name,\n",
    "    hole = .25,\n",
    "    textinfo = 'label+percent',\n",
    ")\n",
    "\n",
    "layout = dict(\n",
    "    title = f\"Number of students studying in the top 10 univeristy - {year}\",\n",
    "    title_x = 0.3,\n",
    "    legend_title_text ='University names'\n",
    ")\n",
    "\n",
    "fig = go.Figure(data = goPieData, layout=layout)\n",
    "fig.show(renderer=\"browser\", auto_open=True)   "
   ]
  },
  {
   "cell_type": "code",
   "execution_count": 18,
   "metadata": {},
   "outputs": [],
   "source": [
    "# comparative task 3\n",
    "# Stacked bar graph of the female to male ratio of the top 5 university in the USA for the time span of 2011-2016\n",
    "year_s = 2011\n",
    "year_e = 2016\n",
    "num_uni = 5\n",
    "\n",
    "def getWorkingData(df : pd.DataFrame) -> pd.DataFrame:\n",
    "    lst = [] # empty list\n",
    "\n",
    "    for i in range(year_s, year_e + 1):\n",
    "        # since there are five Universities, we have to normalize each indivisual data\n",
    "        # by dividing it by number of universities\n",
    "\n",
    "        tmpDf = df[df[\"year\"] == i].head(num_uni) # get top 5university for a specific year\n",
    "        tmpDf.female_male_ratio = tmpDf.female_male_ratio / num_uni \n",
    "\n",
    "        lst.append(tmpDf)\n",
    "    \n",
    "    return pd.concat(lst)\n",
    "\n",
    "uniUK = timesUniData[timesUniData[\"country\"] == \"United Kingdom\"]\n",
    "\n",
    "topUnisByYear = getWorkingData(uniUK)\n",
    "\n",
    "fig = px.bar(topUnisByYear, x=\"year\", y=\"female_male_ratio\", color=\"university_name\",  text=\"female_male_ratio\",\n",
    "        labels= {\n",
    "            'female_male_ratio' : \"Female to male ratio\",\n",
    "            'year' : 'Year',\n",
    "            \"university_name\" : \"University name\",\n",
    "        })\n",
    "\n",
    "fig.update_layout(\n",
    "    title = f\"Stacked bar graph of the female-to-male ratio of the top 5 university in the UK for the time span of {year_s}-{year_e}\",\n",
    "    title_x = 0.1\n",
    ")\n",
    "\n",
    "fig.show(renderer=\"browser\", auto_open=True)   "
   ]
  },
  {
   "cell_type": "code",
   "execution_count": 15,
   "metadata": {},
   "outputs": [],
   "source": [
    "# comparative task 4\n",
    "# compare the research and income of the top 10 university for the year of 2015\n",
    "year = 2015\n",
    "num_uni = 10\n",
    "\n",
    "topUnis = timesUniData[timesUniData[\"year\"] == year].head(num_uni)\n",
    "\n",
    "fig = make_subplots(rows=1, cols=2, shared_xaxes=True, shared_yaxes=False, vertical_spacing=0.001,\n",
    "    subplot_titles=(\"Citations\", \"Income\"))\n",
    "\n",
    "    \n",
    "researchPlot = go.Bar(y = topUnis.university_name, x = topUnis.citations,\n",
    "        name = 'Income',orientation='h',\n",
    "        marker = dict(\n",
    "            color = 'lightblue',\n",
    "            line = dict(\n",
    "                color = 'gray',\n",
    "                width = 2\n",
    "            )\n",
    "        )\n",
    "    )\n",
    "\n",
    "incomePlot = go.Bar(y = topUnis.university_name, x = topUnis.income,\n",
    "        name = 'Research',orientation='h',\n",
    "        marker = dict(\n",
    "            color = '#eda882',\n",
    "            line = dict(\n",
    "                color = 'gray',\n",
    "                width = 2\n",
    "            )\n",
    "        )\n",
    "    )\n",
    "\n",
    "fig.append_trace(researchPlot, 1, 1)\n",
    "fig.append_trace(incomePlot, 1, 2)\n",
    "fig.update_yaxes(showticklabels=False, row=1, col=2)\n",
    "\n",
    "fig.update_layout(title = f\"Research and income of the top {num_uni} universities - {year}\",\n",
    "    title_x = .5,\n",
    "    legend = dict(\n",
    "        orientation = \"h\",\n",
    "        yanchor =\"bottom\",\n",
    "        y = 1.02,\n",
    "        xanchor = \"right\",\n",
    "        x = 1\n",
    "    )\n",
    ")\n",
    "\n",
    "fig.show(renderer=\"browser\", auto_open=True)   "
   ]
  }
 ],
 "metadata": {
  "interpreter": {
   "hash": "a8f61be024eba58adef938c9aa1e29e02cb3dece83a5348b1a2dafd16a070453"
  },
  "kernelspec": {
   "display_name": "Python 3.9.7 64-bit ('base': conda)",
   "language": "python",
   "name": "python3"
  },
  "language_info": {
   "codemirror_mode": {
    "name": "ipython",
    "version": 3
   },
   "file_extension": ".py",
   "mimetype": "text/x-python",
   "name": "python",
   "nbconvert_exporter": "python",
   "pygments_lexer": "ipython3",
   "version": "3.9.7"
  },
  "orig_nbformat": 4
 },
 "nbformat": 4,
 "nbformat_minor": 2
}
