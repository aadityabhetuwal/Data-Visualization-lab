{
 "cells": [
  {
   "cell_type": "markdown",
   "metadata": {},
   "source": [
    "## Lab 03 - Distributional and relational visualization"
   ]
  },
  {
   "cell_type": "code",
   "execution_count": null,
   "metadata": {},
   "outputs": [],
   "source": [
    "# imports\n",
    "import pandas as pd \n",
    "import matplotlib.pyplot as plt\n",
    "import matplotlib.patches as mpatches\n",
    "\n",
    "import numpy as np\n",
    "import os\n",
    "\n",
    "import plotly.io as pio \n",
    "pio.renderers.default = \"notebook+pdf\""
   ]
  },
  {
   "cell_type": "code",
   "execution_count": 17,
   "metadata": {},
   "outputs": [],
   "source": [
    "%matplotlib qt"
   ]
  },
  {
   "cell_type": "markdown",
   "metadata": {},
   "source": [
    "The university dataset has many .csv files.\n",
    "\n",
    "For this experiment we will be exploring only the cwurData.csv and timesData.csv"
   ]
  },
  {
   "cell_type": "code",
   "execution_count": null,
   "metadata": {},
   "outputs": [],
   "source": [
    "def loadCSVData(path):\n",
    "    '''\n",
    "        Function helps load the given path name if it is a CSV file into a DataFrame using pandas\n",
    "    '''\n",
    "    if os.path.splitext(path)[1] == \".csv\": # read only csv files from the dataset\n",
    "        df = pd.read_csv(path, delimiter=',')\n",
    "\n",
    "        return df\n",
    "    return None"
   ]
  },
  {
   "cell_type": "markdown",
   "metadata": {},
   "source": [
    "#### Dataset timesData.csv for other tasks"
   ]
  },
  {
   "cell_type": "code",
   "execution_count": null,
   "metadata": {},
   "outputs": [],
   "source": [
    "# file cwurData.csv\n",
    "currUniData = loadCSVData(\"../world_university_ranking/cwurData.csv\")\n",
    "print(currUniData.info())"
   ]
  },
  {
   "cell_type": "code",
   "execution_count": null,
   "metadata": {},
   "outputs": [],
   "source": [
    "currUniData.isnull().sum()"
   ]
  },
  {
   "cell_type": "code",
   "execution_count": null,
   "metadata": {},
   "outputs": [],
   "source": [
    "# loading timesData.csv\n",
    "timesUniData = loadCSVData(\"../world_university_ranking/timesData.csv\")\n",
    "\n",
    "# info on columns\n",
    "print(timesUniData.info())"
   ]
  },
  {
   "cell_type": "code",
   "execution_count": null,
   "metadata": {},
   "outputs": [],
   "source": [
    "timesUniData.isnull().sum()"
   ]
  },
  {
   "cell_type": "code",
   "execution_count": null,
   "metadata": {},
   "outputs": [],
   "source": [
    "before = timesUniData.shape[0]\n",
    "timesUniData = timesUniData.dropna()\n",
    "\n",
    "print(f\"Dropped {before - timesUniData.shape[0]} NaN values\")\n",
    "print(timesUniData.isnull().sum())"
   ]
  },
  {
   "cell_type": "code",
   "execution_count": null,
   "metadata": {},
   "outputs": [],
   "source": [
    "def parseNumberOfStudents(df : pd.Series) -> list[float]:\n",
    "    if df.dtype == object:\n",
    "        tmp = [item.replace(',', '') for ind, item in df.iteritems() ]\n",
    "        return list(map(float, tmp))\n",
    "    else:\n",
    "        return list(df)\n",
    "\n",
    "def parseGenderRatio(df : pd.Series) -> list[float]:\n",
    "    lst = []\n",
    "    ratio = 0\n",
    "\n",
    "    if df.dtype == object:\n",
    "        for ind, item in df.iteritems():\n",
    "            try:\n",
    "                tmp = list(map(int, item.split(\":\") ) )\n",
    "                lst.append(tmp[0]) \n",
    "            except ZeroDivisionError:\n",
    "                lst.append(100)\n",
    "            except:\n",
    "                lst.append(0) # no data\n",
    "\n",
    "        return lst\n",
    "    else:\n",
    "        return list(df)\n",
    "\n",
    "# international student is given in the format 27% so we can just remove the % to\n",
    "# convert it into a numeric data type\n",
    "def parseInternationalStudents(df : pd.Series) -> list[float]:\n",
    "    if df.dtype == object:\n",
    "        tmp = [item.replace('%', '') for ind, item in df.iteritems() ]\n",
    "        return list(map(float, tmp))\n",
    "    else:\n",
    "        return list(df)\n"
   ]
  },
  {
   "cell_type": "code",
   "execution_count": null,
   "metadata": {},
   "outputs": [],
   "source": [
    "# here since number of students and gender ratio is given in strings we need to\n",
    "# convert them into numeric types\n",
    "\n",
    "num_stud = parseNumberOfStudents(timesUniData.num_students)\n",
    "timesUniData.num_students = num_stud\n",
    "pd.to_numeric(timesUniData.num_students)\n",
    "\n",
    "gender_ratio = parseGenderRatio(timesUniData.female_male_ratio)\n",
    "timesUniData.female_male_ratio = gender_ratio\n",
    "pd.to_numeric(timesUniData.female_male_ratio)\n",
    "\n",
    "international_students = parseInternationalStudents(\n",
    "    timesUniData.international_students)\n",
    "timesUniData.international_students = international_students\n",
    "pd.to_numeric(timesUniData.international_students)\n",
    "\n",
    "print(timesUniData.info())\n"
   ]
  },
  {
   "cell_type": "code",
   "execution_count": 31,
   "metadata": {},
   "outputs": [
    {
     "data": {
      "application/pdf": "[encoded data removed]",
      "text/html": [
       "<div>                            <div id=\"788ef2f3-45c2-4083-a889-94cfd55b8f06\" class=\"plotly-graph-div\" style=\"height:525px; width:100%;\"></div>            <script type=\"text/javascript\">                require([\"plotly\"], function(Plotly) {                    window.PLOTLYENV=window.PLOTLYENV || {};                                    if (document.getElementById(\"788ef2f3-45c2-4083-a889-94cfd55b8f06\")) {                    Plotly.newPlot(                        \"788ef2f3-45c2-4083-a889-94cfd55b8f06\",                        [{\"cells\":{\"align\":\"left\",\"fill\":{\"color\":[\"lavender\",\"aqua\",\"greenyellow\",\"greenyellow\"]},\"values\":[[\"United States of America\",\"United Kingdom\",\"United States of America\",\"United Kingdom\",\"United States of America\",\"United States of America\",\"United States of America\",\"United Kingdom\",\"United States of America\",\"United States of America\",\"United States of America\",\"Switzerland\",\"United States of America\",\"United States of America\",\"United States of America\",\"United States of America\",\"United States of America\",\"United States of America\"],[2243.0,19919.0,15596.0,18812.0,11074.0,7929.0,36186.0,15060.0,11751.0,14221.0,38206.0,18178.0,15128.0,20376.0,41786.0,15172.0,21424.0,18334.0],[98.1,97.7,96.7,95.6,88.2,94.7,96.7,88.3,90.8,89.9,90.5,90.2,84.2,82.0,86.5,75.2,83.8,78.9],[99.7,95.5,99.1,95.2,100.0,99.6,99.1,89.4,94.0,97.3,95.3,83.5,93.6,94.4,88.9,96.6,91.5,96.9]]},\"header\":{\"align\":\"left\",\"fill\":{\"color\":[\"lavender\",\"aqua\",\"greenyellow\",\"greenyellow\"]},\"line\":{\"color\":\"darkslategray\"},\"values\":[\"Country\",\"Number of Students\",\"Research\",\"Citations\"]},\"type\":\"table\"}],                        {\"title\":{\"text\":\"Table coding for top univeristies of 2015\"},\"template\":{\"data\":{\"bar\":[{\"error_x\":{\"color\":\"#2a3f5f\"},\"error_y\":{\"color\":\"#2a3f5f\"},\"marker\":{\"line\":{\"color\":\"#E5ECF6\",\"width\":0.5},\"pattern\":{\"fillmode\":\"overlay\",\"size\":10,\"solidity\":0.2}},\"type\":\"bar\"}],\"barpolar\":[{\"marker\":{\"line\":{\"color\":\"#E5ECF6\",\"width\":0.5},\"pattern\":{\"fillmode\":\"overlay\",\"size\":10,\"solidity\":0.2}},\"type\":\"barpolar\"}],\"carpet\":[{\"aaxis\":{\"endlinecolor\":\"#2a3f5f\",\"gridcolor\":\"white\",\"linecolor\":\"white\",\"minorgridcolor\":\"white\",\"startlinecolor\":\"#2a3f5f\"},\"baxis\":{\"endlinecolor\":\"#2a3f5f\",\"gridcolor\":\"white\",\"linecolor\":\"white\",\"minorgridcolor\":\"white\",\"startlinecolor\":\"#2a3f5f\"},\"type\":\"carpet\"}],\"choropleth\":[{\"colorbar\":{\"outlinewidth\":0,\"ticks\":\"\"},\"type\":\"choropleth\"}],\"contour\":[{\"colorbar\":{\"outlinewidth\":0,\"ticks\":\"\"},\"colorscale\":[[0.0,\"#0d0887\"],[0.1111111111111111,\"#46039f\"],[0.2222222222222222,\"#7201a8\"],[0.3333333333333333,\"#9c179e\"],[0.4444444444444444,\"#bd3786\"],[0.5555555555555556,\"#d8576b\"],[0.6666666666666666,\"#ed7953\"],[0.7777777777777778,\"#fb9f3a\"],[0.8888888888888888,\"#fdca26\"],[1.0,\"#f0f921\"]],\"type\":\"contour\"}],\"contourcarpet\":[{\"colorbar\":{\"outlinewidth\":0,\"ticks\":\"\"},\"type\":\"contourcarpet\"}],\"heatmap\":[{\"colorbar\":{\"outlinewidth\":0,\"ticks\":\"\"},\"colorscale\":[[0.0,\"#0d0887\"],[0.1111111111111111,\"#46039f\"],[0.2222222222222222,\"#7201a8\"],[0.3333333333333333,\"#9c179e\"],[0.4444444444444444,\"#bd3786\"],[0.5555555555555556,\"#d8576b\"],[0.6666666666666666,\"#ed7953\"],[0.7777777777777778,\"#fb9f3a\"],[0.8888888888888888,\"#fdca26\"],[1.0,\"#f0f921\"]],\"type\":\"heatmap\"}],\"heatmapgl\":[{\"colorbar\":{\"outlinewidth\":0,\"ticks\":\"\"},\"colorscale\":[[0.0,\"#0d0887\"],[0.1111111111111111,\"#46039f\"],[0.2222222222222222,\"#7201a8\"],[0.3333333333333333,\"#9c179e\"],[0.4444444444444444,\"#bd3786\"],[0.5555555555555556,\"#d8576b\"],[0.6666666666666666,\"#ed7953\"],[0.7777777777777778,\"#fb9f3a\"],[0.8888888888888888,\"#fdca26\"],[1.0,\"#f0f921\"]],\"type\":\"heatmapgl\"}],\"histogram\":[{\"marker\":{\"pattern\":{\"fillmode\":\"overlay\",\"size\":10,\"solidity\":0.2}},\"type\":\"histogram\"}],\"histogram2d\":[{\"colorbar\":{\"outlinewidth\":0,\"ticks\":\"\"},\"colorscale\":[[0.0,\"#0d0887\"],[0.1111111111111111,\"#46039f\"],[0.2222222222222222,\"#7201a8\"],[0.3333333333333333,\"#9c179e\"],[0.4444444444444444,\"#bd3786\"],[0.5555555555555556,\"#d8576b\"],[0.6666666666666666,\"#ed7953\"],[0.7777777777777778,\"#fb9f3a\"],[0.8888888888888888,\"#fdca26\"],[1.0,\"#f0f921\"]],\"type\":\"histogram2d\"}],\"histogram2dcontour\":[{\"colorbar\":{\"outlinewidth\":0,\"ticks\":\"\"},\"colorscale\":[[0.0,\"#0d0887\"],[0.1111111111111111,\"#46039f\"],[0.2222222222222222,\"#7201a8\"],[0.3333333333333333,\"#9c179e\"],[0.4444444444444444,\"#bd3786\"],[0.5555555555555556,\"#d8576b\"],[0.6666666666666666,\"#ed7953\"],[0.7777777777777778,\"#fb9f3a\"],[0.8888888888888888,\"#fdca26\"],[1.0,\"#f0f921\"]],\"type\":\"histogram2dcontour\"}],\"mesh3d\":[{\"colorbar\":{\"outlinewidth\":0,\"ticks\":\"\"},\"type\":\"mesh3d\"}],\"parcoords\":[{\"line\":{\"colorbar\":{\"outlinewidth\":0,\"ticks\":\"\"}},\"type\":\"parcoords\"}],\"pie\":[{\"automargin\":true,\"type\":\"pie\"}],\"scatter\":[{\"marker\":{\"colorbar\":{\"outlinewidth\":0,\"ticks\":\"\"}},\"type\":\"scatter\"}],\"scatter3d\":[{\"line\":{\"colorbar\":{\"outlinewidth\":0,\"ticks\":\"\"}},\"marker\":{\"colorbar\":{\"outlinewidth\":0,\"ticks\":\"\"}},\"type\":\"scatter3d\"}],\"scattercarpet\":[{\"marker\":{\"colorbar\":{\"outlinewidth\":0,\"ticks\":\"\"}},\"type\":\"scattercarpet\"}],\"scattergeo\":[{\"marker\":{\"colorbar\":{\"outlinewidth\":0,\"ticks\":\"\"}},\"type\":\"scattergeo\"}],\"scattergl\":[{\"marker\":{\"colorbar\":{\"outlinewidth\":0,\"ticks\":\"\"}},\"type\":\"scattergl\"}],\"scattermapbox\":[{\"marker\":{\"colorbar\":{\"outlinewidth\":0,\"ticks\":\"\"}},\"type\":\"scattermapbox\"}],\"scatterpolar\":[{\"marker\":{\"colorbar\":{\"outlinewidth\":0,\"ticks\":\"\"}},\"type\":\"scatterpolar\"}],\"scatterpolargl\":[{\"marker\":{\"colorbar\":{\"outlinewidth\":0,\"ticks\":\"\"}},\"type\":\"scatterpolargl\"}],\"scatterternary\":[{\"marker\":{\"colorbar\":{\"outlinewidth\":0,\"ticks\":\"\"}},\"type\":\"scatterternary\"}],\"surface\":[{\"colorbar\":{\"outlinewidth\":0,\"ticks\":\"\"},\"colorscale\":[[0.0,\"#0d0887\"],[0.1111111111111111,\"#46039f\"],[0.2222222222222222,\"#7201a8\"],[0.3333333333333333,\"#9c179e\"],[0.4444444444444444,\"#bd3786\"],[0.5555555555555556,\"#d8576b\"],[0.6666666666666666,\"#ed7953\"],[0.7777777777777778,\"#fb9f3a\"],[0.8888888888888888,\"#fdca26\"],[1.0,\"#f0f921\"]],\"type\":\"surface\"}],\"table\":[{\"cells\":{\"fill\":{\"color\":\"#EBF0F8\"},\"line\":{\"color\":\"white\"}},\"header\":{\"fill\":{\"color\":\"#C8D4E3\"},\"line\":{\"color\":\"white\"}},\"type\":\"table\"}]},\"layout\":{\"annotationdefaults\":{\"arrowcolor\":\"#2a3f5f\",\"arrowhead\":0,\"arrowwidth\":1},\"autotypenumbers\":\"strict\",\"coloraxis\":{\"colorbar\":{\"outlinewidth\":0,\"ticks\":\"\"}},\"colorscale\":{\"diverging\":[[0,\"#8e0152\"],[0.1,\"#c51b7d\"],[0.2,\"#de77ae\"],[0.3,\"#f1b6da\"],[0.4,\"#fde0ef\"],[0.5,\"#f7f7f7\"],[0.6,\"#e6f5d0\"],[0.7,\"#b8e186\"],[0.8,\"#7fbc41\"],[0.9,\"#4d9221\"],[1,\"#276419\"]],\"sequential\":[[0.0,\"#0d0887\"],[0.1111111111111111,\"#46039f\"],[0.2222222222222222,\"#7201a8\"],[0.3333333333333333,\"#9c179e\"],[0.4444444444444444,\"#bd3786\"],[0.5555555555555556,\"#d8576b\"],[0.6666666666666666,\"#ed7953\"],[0.7777777777777778,\"#fb9f3a\"],[0.8888888888888888,\"#fdca26\"],[1.0,\"#f0f921\"]],\"sequentialminus\":[[0.0,\"#0d0887\"],[0.1111111111111111,\"#46039f\"],[0.2222222222222222,\"#7201a8\"],[0.3333333333333333,\"#9c179e\"],[0.4444444444444444,\"#bd3786\"],[0.5555555555555556,\"#d8576b\"],[0.6666666666666666,\"#ed7953\"],[0.7777777777777778,\"#fb9f3a\"],[0.8888888888888888,\"#fdca26\"],[1.0,\"#f0f921\"]]},\"colorway\":[\"#636efa\",\"#EF553B\",\"#00cc96\",\"#ab63fa\",\"#FFA15A\",\"#19d3f3\",\"#FF6692\",\"#B6E880\",\"#FF97FF\",\"#FECB52\"],\"font\":{\"color\":\"#2a3f5f\"},\"geo\":{\"bgcolor\":\"white\",\"lakecolor\":\"white\",\"landcolor\":\"#E5ECF6\",\"showlakes\":true,\"showland\":true,\"subunitcolor\":\"white\"},\"hoverlabel\":{\"align\":\"left\"},\"hovermode\":\"closest\",\"mapbox\":{\"style\":\"light\"},\"paper_bgcolor\":\"white\",\"plot_bgcolor\":\"#E5ECF6\",\"polar\":{\"angularaxis\":{\"gridcolor\":\"white\",\"linecolor\":\"white\",\"ticks\":\"\"},\"bgcolor\":\"#E5ECF6\",\"radialaxis\":{\"gridcolor\":\"white\",\"linecolor\":\"white\",\"ticks\":\"\"}},\"scene\":{\"xaxis\":{\"backgroundcolor\":\"#E5ECF6\",\"gridcolor\":\"white\",\"gridwidth\":2,\"linecolor\":\"white\",\"showbackground\":true,\"ticks\":\"\",\"zerolinecolor\":\"white\"},\"yaxis\":{\"backgroundcolor\":\"#E5ECF6\",\"gridcolor\":\"white\",\"gridwidth\":2,\"linecolor\":\"white\",\"showbackground\":true,\"ticks\":\"\",\"zerolinecolor\":\"white\"},\"zaxis\":{\"backgroundcolor\":\"#E5ECF6\",\"gridcolor\":\"white\",\"gridwidth\":2,\"linecolor\":\"white\",\"showbackground\":true,\"ticks\":\"\",\"zerolinecolor\":\"white\"}},\"shapedefaults\":{\"line\":{\"color\":\"#2a3f5f\"}},\"ternary\":{\"aaxis\":{\"gridcolor\":\"white\",\"linecolor\":\"white\",\"ticks\":\"\"},\"baxis\":{\"gridcolor\":\"white\",\"linecolor\":\"white\",\"ticks\":\"\"},\"bgcolor\":\"#E5ECF6\",\"caxis\":{\"gridcolor\":\"white\",\"linecolor\":\"white\",\"ticks\":\"\"}},\"title\":{\"x\":0.05},\"xaxis\":{\"automargin\":true,\"gridcolor\":\"white\",\"linecolor\":\"white\",\"ticks\":\"\",\"title\":{\"standoff\":15},\"zerolinecolor\":\"white\",\"zerolinewidth\":2},\"yaxis\":{\"automargin\":true,\"gridcolor\":\"white\",\"linecolor\":\"white\",\"ticks\":\"\",\"title\":{\"standoff\":15},\"zerolinecolor\":\"white\",\"zerolinewidth\":2}}}},                        {\"responsive\": true}                    ).then(function(){\n",
       "                            \n",
       "var gd = document.getElementById('788ef2f3-45c2-4083-a889-94cfd55b8f06');\n",
       "var x = new MutationObserver(function (mutations, observer) {{\n",
       "        var display = window.getComputedStyle(gd).display;\n",
       "        if (!display || display === 'none') {{\n",
       "            console.log([gd, 'removed!']);\n",
       "            Plotly.purge(gd);\n",
       "            observer.disconnect();\n",
       "        }}\n",
       "}});\n",
       "\n",
       "// Listen for the removal of the full notebook cells\n",
       "var notebookContainer = gd.closest('#notebook-container');\n",
       "if (notebookContainer) {{\n",
       "    x.observe(notebookContainer, {childList: true});\n",
       "}}\n",
       "\n",
       "// Listen for the clearing of the current output cell\n",
       "var outputEl = gd.closest('.output');\n",
       "if (outputEl) {{\n",
       "    x.observe(outputEl, {childList: true});\n",
       "}}\n",
       "\n",
       "                        })                };                });            </script>        </div>"
      ]
     },
     "metadata": {},
     "output_type": "display_data"
    }
   ],
   "source": [
    "# extra plotly plot\n",
    "\n",
    "import plotly.express as px\n",
    "import plotly.graph_objects as go\n",
    "from plotly.subplots import make_subplots\n",
    "\n",
    "year = 2015\n",
    "\n",
    "uni2015 = timesUniData[timesUniData[\"year\"] == year].head(18)\n",
    "    \n",
    "tableData = go.Table(\n",
    "        header=dict(values=['Country', 'Number of Students', 'Research', 'Citations'], align='left', \n",
    "        line_color='darkslategray', fill_color=['lavender', 'aqua', 'greenyellow', 'greenyellow']),\n",
    "        cells=dict(values=[uni2015.country, uni2015.num_students, uni2015.research, uni2015.citations],\n",
    "            fill_color=['lavender', 'aqua', 'greenyellow', 'greenyellow'], align='left')\n",
    "        )\n",
    "\n",
    "\n",
    "fig = go.Figure(data=tableData, layout= go.Layout(title=f\"Table coding for top univeristies of {year}\") )\n",
    "\n",
    "fig.show()    "
   ]
  },
  {
   "cell_type": "code",
   "execution_count": 22,
   "metadata": {},
   "outputs": [],
   "source": [
    "# plot 1\n",
    "# table color coding of quantitative, ordinal and categorical attributes of \n",
    "# top 18 univerisites of the year 2014\n",
    "\n",
    "year = 2014\n",
    "numUni = 18\n",
    "\n",
    "uni2014 = timesUniData[timesUniData.year == year].iloc[: numUni]\n",
    "\n",
    "colors = ['lavender', 'aqua', 'greenyellow', 'greenyellow']\n",
    "cellColors = [colors] * numUni\n",
    "cellData = []\n",
    "\n",
    "for ind, row in uni2014.iterrows():\n",
    "    tmp = [row.country, row.num_students, row.research, row.citations]\n",
    "    cellData.append(tmp)\n",
    "\n",
    "# print(cellData)\n",
    "\n",
    "lavenderPatch = mpatches.Patch(color='lavender', label='Categorical data')\n",
    "aquaPatch = mpatches.Patch(color='aqua', label='Quantitative data')\n",
    "greenYellowPatch = mpatches.Patch(color='greenyellow', label='Ordinal data')\n",
    "\n",
    "# here research and citations is given in percentage but other than that\n",
    "# there is measure of how these were calculated\n",
    "\n",
    "columnHeaders = ['$\\\\bf{Country}$', '$\\\\bf{Number\\ of\\ Students}$', \n",
    "        '$\\\\bf{Research}$', '$\\\\bf{Citations}$']\n",
    "rowHeaders = [i for i in range(1, numUni + 1)]\n",
    "\n",
    "fig, ax = plt.subplots()\n",
    "\n",
    "ax.set_axis_off()\n",
    "\n",
    "table = ax.table(cellText= cellData,\n",
    "    colLabels=columnHeaders,\n",
    "    colColours= colors,\n",
    "    cellColours= cellColors,\n",
    "    colWidths=[.50, .25, .25 / 2, .25 / 2],\n",
    "    rowLabels=rowHeaders,\n",
    "    cellLoc='left',\n",
    "    loc='upper left')\n",
    "\n",
    "table.auto_set_font_size(False)\n",
    "table.set_fontsize(14)\n",
    "\n",
    "ax.legend(handles=[lavenderPatch, aquaPatch, greenYellowPatch],\n",
    "    bbox_to_anchor=(1.1, 1.1), prop=dict(size = 16))\n",
    "\n",
    "ax.set_title(\"Table color coding with fields Univeristy Name, Number of student, Research and citations\",\n",
    "     fontdict=dict(size=20))\n",
    "\n",
    "plt.figure(figsize=(20, 10))\n",
    "plt.show()"
   ]
  },
  {
   "cell_type": "code",
   "execution_count": 25,
   "metadata": {},
   "outputs": [
    {
     "name": "stdout",
     "output_type": "stream",
     "text": [
      "[['United States of America', '89.1', 6.9], ['United Kingdom', '72.9', 11.6], ['United States of America', '63.1', 7.8], ['United Kingdom', '51.1', 11.8], ['United States of America', '95.7', 9.0], ['United States of America', '82.7', 8.4], ['United States of America', '44.8', 16.4], ['United Kingdom', '72.7', 11.7], ['United States of America', '42.0', 4.4], ['United States of America', '36.8', 6.9], ['United States of America', '-', 10.3], ['Switzerland', '73.2', 14.7], ['United States of America', '100.0', 3.6], ['United States of America', '43.0', 6.5], ['United States of America', '55.7', 9.0]]\n"
     ]
    }
   ],
   "source": [
    "# plot 2\n",
    "# table color coding of quantitative, ordinal and categorical attributes of\n",
    "# top 20 univerisites of the year 2015 (times uni data)\n",
    "\n",
    "#here income is given in percentage so we dont have any idea of what unit we are talking about \n",
    "# millions, hundred thousands etc.\n",
    "\n",
    "year = 2015\n",
    "numUni = 15\n",
    "\n",
    "uni2014 = timesUniData[timesUniData.year == year].iloc[: numUni]\n",
    "\n",
    "colors = ['lightcoral', 'skyblue', 'turquoise']\n",
    "cellColors = [colors] * numUni\n",
    "cellData = []\n",
    "\n",
    "for ind, row in uni2014.iterrows():\n",
    "    tmp = [row.country, row.income, row.student_staff_ratio]\n",
    "    cellData.append(tmp)\n",
    "\n",
    "print(cellData)\n",
    "\n",
    "lightcoralPatch = mpatches.Patch(color='lightcoral', label='Categorical data')\n",
    "skybluePatch = mpatches.Patch(color='skyblue', label='Ordinal data')\n",
    "turquoisePatch = mpatches.Patch(color='turquoise', label='Quantitative data')\n",
    "\n",
    "lstPatches = [lightcoralPatch, skybluePatch, turquoisePatch]\n",
    "\n",
    "columnHeaders = ['$\\\\bf{Country}$', '$\\\\bf{Income}$', \n",
    "        '$\\\\bf{Student\\ Staff\\ Ratio}$']\n",
    "\n",
    "rowHeaders = [i for i in range(1, numUni + 1)]\n",
    "\n",
    "fig, ax = plt.subplots()\n",
    "\n",
    "ax.set_axis_off()\n",
    "\n",
    "table = ax.table(cellText= cellData,\n",
    "    colLabels=columnHeaders,\n",
    "    colColours= colors,\n",
    "    cellColours= cellColors,\n",
    "    rowLabels=rowHeaders,\n",
    "    cellLoc='center',\n",
    "    loc='upper left')\n",
    "\n",
    "table.auto_set_font_size(False)\n",
    "table.set_fontsize(14)\n",
    "\n",
    "ax.legend(handles=lstPatches, prop=dict(size = 16),\n",
    "    bbox_to_anchor=(1.1, 1.1))\n",
    "\n",
    "ax.set_title(\"Table color coding with fields Country, income, student staff ratio\",\n",
    "         fontdict=dict(size=24))\n",
    "\n",
    "plt.figure(figsize=(6, 6), dpi=600)\n",
    "plt.show()"
   ]
  },
  {
   "cell_type": "code",
   "execution_count": 27,
   "metadata": {},
   "outputs": [
    {
     "name": "stdout",
     "output_type": "stream",
     "text": [
      "[[1, 100.0, 1], [2, 93.94, 2], [1, 92.54, 12], [3, 91.45, 16], [2, 90.24, 15], [4, 88.21, 8], [5, 85.07, 28], [6, 82.17, 14], [7, 79.16, 19], [8, 78.83, 25], [9, 77.59, 101], [10, 77.24, 5], [11, 76.99, 23], [1, 76.23, 3], [2, 69.46, 17], [12, 67.84, 35], [13, 65.64, 96]]\n"
     ]
    }
   ],
   "source": [
    "#plot 3 (cwurData)\n",
    "# table color coding of quantitative, ordinal and categorical attributes of\n",
    "# top 15 univerisites of the year 2013\n",
    "\n",
    "# alumni employment is given a score but we dont have any scale\n",
    "# so alumni employment is ordinal\n",
    "\n",
    "year = 2013\n",
    "numUni = 17\n",
    "\n",
    "uni2014 = currUniData[currUniData.year == year].iloc[: numUni]\n",
    "\n",
    "colors = ['wheat', 'limegreen', 'plum']\n",
    "cellColors = [colors] * numUni\n",
    "cellData = []\n",
    "\n",
    "for ind, row in uni2014.iterrows():\n",
    "    tmp = [row.national_rank, row.score, row.alumni_employment]\n",
    "    cellData.append(tmp)\n",
    "\n",
    "print(cellData)\n",
    "\n",
    "\n",
    "lstPatches = [mpatches.Patch(color=colors[0], label='Categorical data'),\n",
    "            mpatches.Patch(color=colors[1], label='Quantitative data'),\n",
    "            mpatches.Patch(color=colors[2], label='Ordinal data')]\n",
    "\n",
    "columnHeaders = ['$\\\\bf{National\\ Rank}$', '$\\\\bf{Score}$', \n",
    "        '$\\\\bf{Alumni\\ Employment}$']\n",
    "\n",
    "rowHeaders = [i for i in range(1, numUni + 1)]\n",
    "\n",
    "fig, ax = plt.subplots()\n",
    "\n",
    "ax.set_axis_off()\n",
    "\n",
    "table = ax.table(cellText= cellData,\n",
    "    colLabels=columnHeaders,\n",
    "    colColours= colors,\n",
    "    cellColours= cellColors,\n",
    "    rowLabels=rowHeaders,\n",
    "    cellLoc='center',\n",
    "    loc='upper left')\n",
    "\n",
    "table.auto_set_font_size(False)\n",
    "table.set_fontsize(14)\n",
    "\n",
    "ax.legend(handles=lstPatches, loc='upper left', prop=dict(size = 16),\n",
    "    bbox_to_anchor=(-.15, 1))\n",
    "\n",
    "ax.set_title(\"Table color coding with fields National rank, Score and Alumni Employment\", fontdict=dict(size=24))\n",
    "\n",
    "plt.figure(figsize=(6, 6), dpi=600)\n",
    "plt.show()"
   ]
  },
  {
   "cell_type": "code",
   "execution_count": 30,
   "metadata": {},
   "outputs": [
    {
     "name": "stdout",
     "output_type": "stream",
     "text": [
      "[['USA', 1, 1], ['USA', 11, 3], ['USA', 3, 2], ['United Kingdom', 2, 9], ['United Kingdom', 7, 12], ['USA', 13, 13], ['USA', 4, 4], ['USA', 10, 19], ['USA', 5, 25], ['USA', 9, 7], ['USA', 12, 15], ['USA', 6, 6], ['Japan', 17, 16], ['USA', 21, 17], ['USA', 27, 14], ['Japan', 30, 41], ['USA', 33, 29], ['Switzerland', 16, 28], ['USA', 24, 10]]\n"
     ]
    }
   ],
   "source": [
    "#plot 4 (cwurData)\n",
    "# table color coding of quantitative, ordinal and categorical attributes of \n",
    "# top 19 univerisites of the year 2014\n",
    "\n",
    "# influence is given a number but no units to refer to\n",
    "# so Influcence can be called an ordinal attribute\n",
    "\n",
    "year = 2014\n",
    "numUni = 19\n",
    "\n",
    "uni2014 = currUniData[currUniData.year == year].iloc[: numUni]\n",
    "\n",
    "colors = ['wheat', 'limegreen', 'plum']\n",
    "cellColors = [colors] * numUni\n",
    "cellData = []\n",
    "\n",
    "for ind, row in uni2014.iterrows():\n",
    "    tmp = [row.country, row.quality_of_education, row.influence]\n",
    "    cellData.append(tmp)\n",
    "\n",
    "print(cellData)\n",
    "\n",
    "\n",
    "lstPatches = [mpatches.Patch(color=colors[0], label='Categorical data'),\n",
    "            mpatches.Patch(color=colors[1], label='Quantitative data'),\n",
    "            mpatches.Patch(color=colors[2], label='Ordinal data')]\n",
    "\n",
    "columnHeaders = ['$\\\\bf{Country}$', '$\\\\bf{Quality\\ of\\ Education}$', \n",
    "        '$\\\\bf{Influence}$']\n",
    "\n",
    "rowHeaders = [i for i in range(1, numUni + 1)]\n",
    "\n",
    "fig, ax = plt.subplots()\n",
    "\n",
    "ax.set_axis_off()\n",
    "\n",
    "table = ax.table(cellText= cellData,\n",
    "    colLabels=columnHeaders,\n",
    "    colColours= colors,\n",
    "    cellColours= cellColors,\n",
    "    rowLabels=rowHeaders,\n",
    "    cellLoc='center',\n",
    "    loc='upper left')\n",
    "\n",
    "table.auto_set_font_size(False)\n",
    "table.set_fontsize(14)\n",
    "\n",
    "ax.legend(handles=lstPatches, loc='upper left', prop=dict(size = 16),\n",
    "    bbox_to_anchor=(-.15, 1))\n",
    "\n",
    "ax.set_title(\"Table color coding with fields Country, Quality of Eduation and Influence\", \n",
    "        fontdict=dict(size=24))\n",
    "\n",
    "plt.figure(figsize=(6, 6), dpi=600)\n",
    "plt.show()"
   ]
  }
 ],
 "metadata": {
  "interpreter": {
   "hash": "fcf1d46d271c46101d6967829d4a5f475342a2ce08e4944f989fbcdc9bb23690"
  },
  "kernelspec": {
   "display_name": "Python 3.9.0 64-bit",
   "language": "python",
   "name": "python3"
  },
  "language_info": {
   "codemirror_mode": {
    "name": "ipython",
    "version": 3
   },
   "file_extension": ".py",
   "mimetype": "text/x-python",
   "name": "python",
   "nbconvert_exporter": "python",
   "pygments_lexer": "ipython3",
   "version": "3.9.0"
  },
  "orig_nbformat": 4
 },
 "nbformat": 4,
 "nbformat_minor": 2
}
