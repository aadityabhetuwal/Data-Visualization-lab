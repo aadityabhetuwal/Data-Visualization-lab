{
 "cells": [
  {
   "cell_type": "markdown",
   "metadata": {},
   "source": [
    "## Lab 03 - Distributional and relational visualization"
   ]
  },
  {
   "cell_type": "markdown",
   "metadata": {},
   "source": [
    "#### Used libraries\n",
    "\n",
    "1. **pandas**  \n",
    "    `pip install pandas`\n",
    "\n",
    "1. **plotly**  \n",
    "    `pip install plotly`\n",
    "\n",
    "1. **pycountry** - for getting country codes for geoPlot   \n",
    "    `pip install pycountry`\n",
    "\n",
    "1. **geopandas** - for working with geo plots  \n",
    "    `pip install geopandas`"
   ]
  },
  {
   "cell_type": "code",
   "execution_count": null,
   "metadata": {},
   "outputs": [],
   "source": [
    "# imports\n",
    "import pandas as pd \n",
    "\n",
    "import plotly.express as px\n",
    "import plotly.graph_objects as go\n",
    "from plotly.subplots import make_subplots\n",
    "\n",
    "import numpy as np\n",
    "import os\n",
    "import pycountry\n",
    "# import geopandas as gpd\n"
   ]
  },
  {
   "cell_type": "markdown",
   "metadata": {},
   "source": [
    "The university dataset has many .csv files.\n",
    "\n",
    "For this experiment we will be exploring only the cwurData.csv and timesData.csv"
   ]
  },
  {
   "cell_type": "code",
   "execution_count": null,
   "metadata": {},
   "outputs": [],
   "source": [
    "def loadCSVData(path):\n",
    "    '''\n",
    "        Function helps load the given path name if it is a CSV file into a DataFrame using pandas\n",
    "    '''\n",
    "    if os.path.splitext(path)[1] == \".csv\": # read only csv files from the dataset\n",
    "        df = pd.read_csv(path, delimiter=',')\n",
    "\n",
    "        return df\n",
    "    return None"
   ]
  },
  {
   "cell_type": "markdown",
   "metadata": {},
   "source": [
    "#### Dataset timesData.csv for other tasks"
   ]
  },
  {
   "cell_type": "code",
   "execution_count": 32,
   "metadata": {},
   "outputs": [
    {
     "name": "stdout",
     "output_type": "stream",
     "text": [
      "<class 'pandas.core.frame.DataFrame'>\n",
      "RangeIndex: 2603 entries, 0 to 2602\n",
      "Data columns (total 14 columns):\n",
      " #   Column                  Non-Null Count  Dtype  \n",
      "---  ------                  --------------  -----  \n",
      " 0   world_rank              2603 non-null   object \n",
      " 1   university_name         2603 non-null   object \n",
      " 2   country                 2603 non-null   object \n",
      " 3   teaching                2603 non-null   float64\n",
      " 4   international           2603 non-null   object \n",
      " 5   research                2603 non-null   float64\n",
      " 6   citations               2603 non-null   float64\n",
      " 7   income                  2603 non-null   object \n",
      " 8   total_score             2603 non-null   object \n",
      " 9   num_students            2544 non-null   object \n",
      " 10  student_staff_ratio     2544 non-null   float64\n",
      " 11  international_students  2536 non-null   object \n",
      " 12  female_male_ratio       2370 non-null   object \n",
      " 13  year                    2603 non-null   int64  \n",
      "dtypes: float64(4), int64(1), object(9)\n",
      "memory usage: 284.8+ KB\n",
      "None\n"
     ]
    }
   ],
   "source": [
    "# loading timesData.csv\n",
    "timesUniData = loadCSVData(\"../world_university_ranking/timesData.csv\")\n",
    "\n",
    "# info on columns\n",
    "print(timesUniData.info())"
   ]
  },
  {
   "cell_type": "code",
   "execution_count": null,
   "metadata": {},
   "outputs": [],
   "source": [
    "timesUniData.isnull().sum()"
   ]
  },
  {
   "cell_type": "code",
   "execution_count": null,
   "metadata": {},
   "outputs": [],
   "source": [
    "before = timesUniData.shape[0]\n",
    "timesUniData = timesUniData.dropna()\n",
    "\n",
    "print(f\"Dropped {before - timesUniData.shape[0]} NaN values\")\n",
    "print(timesUniData.isnull().sum())"
   ]
  },
  {
   "cell_type": "code",
   "execution_count": null,
   "metadata": {},
   "outputs": [],
   "source": [
    "def parseNumberOfStudents(df : pd.Series) -> list[float]:\n",
    "    if df.dtype == object:\n",
    "        tmp = [item.replace(',', '') for ind, item in df.iteritems() ]\n",
    "        return list(map(float, tmp))\n",
    "    else:\n",
    "        return list(df)\n",
    "\n",
    "def parseGenderRatio(df : pd.Series) -> list[float]:\n",
    "    lst = []\n",
    "    ratio = 0\n",
    "\n",
    "    if df.dtype == object:\n",
    "        for ind, item in df.iteritems():\n",
    "            try:\n",
    "                tmp = list(map(int, item.split(\":\") ) )\n",
    "                lst.append(tmp[0]) \n",
    "            except ZeroDivisionError:\n",
    "                lst.append(100)\n",
    "            except:\n",
    "                lst.append(0) # no data\n",
    "\n",
    "        return lst\n",
    "    else:\n",
    "        return list(df)\n",
    "\n",
    "# international student is given in the format 27% so we can just remove the % to\n",
    "# convert it into a numeric data type\n",
    "def parseInternationalStudents(df : pd.Series) -> list[float]:\n",
    "    if df.dtype == object:\n",
    "        tmp = [item.replace('%', '') for ind, item in df.iteritems() ]\n",
    "        return list(map(float, tmp))\n",
    "    else:\n",
    "        return list(df)\n"
   ]
  },
  {
   "cell_type": "code",
   "execution_count": null,
   "metadata": {},
   "outputs": [],
   "source": [
    "# here since number of students and gender ratio is given in strings we need to\n",
    "# convert them into numeric types\n",
    "\n",
    "num_stud = parseNumberOfStudents(timesUniData.num_students)\n",
    "timesUniData.num_students = num_stud\n",
    "pd.to_numeric(timesUniData.num_students)\n",
    "\n",
    "gender_ratio = parseGenderRatio(timesUniData.female_male_ratio)\n",
    "timesUniData.female_male_ratio = gender_ratio\n",
    "pd.to_numeric(timesUniData.female_male_ratio)\n",
    "\n",
    "international_students = parseInternationalStudents(\n",
    "    timesUniData.international_students)\n",
    "timesUniData.international_students = international_students\n",
    "pd.to_numeric(timesUniData.international_students)\n",
    "\n",
    "print(timesUniData.info())\n"
   ]
  },
  {
   "cell_type": "code",
   "execution_count": 10,
   "metadata": {},
   "outputs": [],
   "source": [
    "# plot 1 \n",
    "# Student staff ratio in the year 2015-2016\n",
    "year = [2015, 2016]\n",
    "\n",
    "uniData = timesUniData.query(f\"year in {year}\")\n",
    "uni2015 = timesUniData[timesUniData[\"year\"] == 2015]\n",
    "uni2016 = timesUniData[timesUniData[\"year\"] == 2016]\n",
    "\n",
    "hist1 = go.Histogram(x = uni2015.student_staff_ratio, name='2015',\n",
    "        marker = dict(color = 'rgba(119, 157, 230, 0.8)' ) )\n",
    "\n",
    "hist2 = go.Histogram(x = uni2016.student_staff_ratio, name = '2016', \n",
    "        marker = dict(color = 'rgba(220, 112, 92, 0.87)' ) )\n",
    "\n",
    "\n",
    "layout = dict(title = 'Student staff ratio in year 2015-2016', title_x = 0.5, barmode='overlay',\n",
    "\txaxis_title = 'Count', yaxis_title = 'Student-staff ratio')\n",
    "\n",
    "fig = go.Figure(data = [hist1, hist2], layout = layout)\n",
    "\n",
    "fig.update_layout(title = 'Student staff ratio in year 2015-2016', title_x = 0.3, barmode='overlay',\n",
    "xaxis_title = 'Count', yaxis_title = 'Student-staff ratio', font_size = 16)\n",
    "fig.update_traces(opacity = .5)\n",
    "\n",
    "fig.show(renderer='browser', auto_open=True)"
   ]
  },
  {
   "cell_type": "code",
   "execution_count": 11,
   "metadata": {},
   "outputs": [],
   "source": [
    "# plot 2\n",
    "# compare the teaching with world ranking for the top 50 universities\n",
    "year = 2016\n",
    "num_uni = 30\n",
    "\n",
    "topUnis = timesUniData[timesUniData.year == year].iloc[: num_uni]\n",
    "\n",
    "colors = [float(item) for item in topUnis.international]\n",
    "num_students = topUnis.num_students\n",
    "\n",
    "data = go.Scatter(x = topUnis.world_rank, y = topUnis.teaching,\n",
    "\tmode = 'markers+text',\n",
    "\tmarker = dict(\n",
    "\t\t\tcolor = colors,\n",
    "\t\t\tsize = num_students,\n",
    "\t\t\tsizeref= (5.0 * max(num_students) ) / (25.**2),\n",
    "\t\t\tshowscale = True\n",
    "\t),\n",
    "\ttext = topUnis.university_name, \n",
    "\ttextfont=dict(\n",
    "        family=\"sans serif\",\n",
    "        size=12,\n",
    "    ))\n",
    "\n",
    "layout = dict(xaxis_title = 'World ranking', yaxis_title='Teaching score', legend_title ='International score',\n",
    "        title = f\"Worlds top {num_uni} univeristy with number of students(size) and international score(scale) - {year}\",\n",
    "\t\tfont = dict(\n",
    "\t\t\tfamily=\"Calibri\",\n",
    "\t\t\tsize=16,\n",
    "\t\t\tcolor=\"RebeccaPurple\"\n",
    "\t\t))\n",
    "\n",
    "fig = go.Figure(data = data, layout = layout)\n",
    "fig.update_layout(uniformtext_minsize=8, uniformtext_mode='hide')\n",
    "\n",
    "fig.show(renderer='browser', auto_open=True)"
   ]
  },
  {
   "cell_type": "code",
   "execution_count": 12,
   "metadata": {},
   "outputs": [],
   "source": [
    "# for geo plots we need the iso alpha country\n",
    "# so we need to get country codes\n",
    "jsonUrl = 'https://raw.githubusercontent.com/lukes/ISO-3166-Countries-with-Regional-Codes/master/all/all.json'\n",
    "\n",
    "countyDf = pd.read_json(jsonUrl)\n",
    "\n",
    "countryCodes = dict(zip(countyDf.name, countyDf[\"alpha-3\"]))\n",
    "\n",
    "# since UK, South Korea, Hong Kong, Taiwan, Czech Republic, Iran, Macau is not added\n",
    "countryCodes['United Kingdom'] = 'GBR'\n",
    "countryCodes['Hong Kong'] = 'HKG'\n",
    "countryCodes[\"South Korea\"] = 'KOR'\n",
    "countryCodes['Republic of Ireland'] = 'IRL'\n",
    "countryCodes['Taiwan'] = 'TWN'\n",
    "countryCodes['Czech Republic'] = 'CZE'\n",
    "countryCodes['Iran'] = 'IRN'\n",
    "countryCodes['Macau'] = 'MAC'\n",
    "\n",
    "# print(countryCodes[\"United Kingdom\"])"
   ]
  },
  {
   "cell_type": "code",
   "execution_count": 27,
   "metadata": {},
   "outputs": [],
   "source": [
    "# plot 3\n",
    "# geo plot of the distribution of the universities in the world for the year 2015\n",
    "year = 2015\n",
    "\n",
    "def getUniCount(df : pd.DataFrame) -> pd.DataFrame:\n",
    "    countryCount = {}\n",
    "\n",
    "    for ind, row in df.iterrows():\n",
    "        cname = row[\"country\"]\n",
    "\n",
    "        if cname in countryCount:\n",
    "            countryCount[cname] += 1\n",
    "        else:\n",
    "            countryCount[cname] = 1\n",
    "\n",
    "    countDf = pd.DataFrame(columns=['Country', 'Number of university', 'alpha3_code']) # create a dataframe\n",
    "\n",
    "    for key, value in countryCount.items():\n",
    "        appendVals = [key, value, countryCodes[key]]\n",
    "        countDf.loc[len(countDf)] = appendVals # append the values to the dataframe\n",
    "\n",
    "    countDf[\"Number of university\"] = pd.to_numeric(countDf[\"Number of university\"])\n",
    "\n",
    "    return countDf.sort_values(by=[\"Number of university\"], ascending=False) # sort by number of university in descending order\n",
    "\n",
    "uniData = timesUniData[timesUniData[\"year\"] == year]\n",
    "uniCountData = getUniCount(uniData)\n",
    "\n",
    "\n",
    "# fig = px.scatter_geo(uniCountData, locations=\"alpha3_code\", color=\"Country\", hover_name=\"Country\",\n",
    "#         projection=\"natural earth\", size=\"Number of university\" )\n",
    "\n",
    "fig = px.choropleth(uniCountData, locations=\"alpha3_code\", color=\"Number of university\", hover_name=\"Country\",\n",
    "        color_continuous_scale=\"viridis\")\n",
    "\n",
    "fig.update_layout(title = f\"Geo plot of the distribution of the universities in the world for the year {year}\",\n",
    "    title_x = .5, title_font_size = 20)\n",
    "\n",
    "fig.show(renderer='browser', auto_open=True)"
   ]
  },
  {
   "cell_type": "code",
   "execution_count": 46,
   "metadata": {},
   "outputs": [],
   "source": [
    "# plot 4\n",
    "# world rank vs citations of the top 100 unviersity of year 2014, 2015, 2016\n",
    "\n",
    "uni2014 = timesUniData[timesUniData[\"year\"] == 2014].iloc[:100]\n",
    "uni2015 = timesUniData[timesUniData[\"year\"] == 2015].iloc[:100]\n",
    "uni2016 = timesUniData[timesUniData[\"year\"] == 2016].iloc[:100]\n",
    "\n",
    "scatter2014 = go.Scatter(x = uni2014.world_rank, y = uni2014.citations, name = '2014', \n",
    "        text = uni2014.university_name, mode = 'markers', marker = dict(color = 'rgba(119, 157, 230, 0.8)' ) )\n",
    "\n",
    "scatter2015 = go.Scatter(x = uni2015.world_rank, y = uni2015.citations, name = '2015',\n",
    "        text = uni2015.university_name, mode = 'markers', marker = dict(color = 'rgba(220, 112, 92, 0.87)' ) )\n",
    "    \n",
    "scatter2016 = go.Scatter(x = uni2016.world_rank, y = uni2016.citations, name = '2016',\n",
    "        text = uni2016.university_name, mode = 'markers', marker = dict(color = 'rgba(82, 84, 80, .8)' ) )\n",
    "\n",
    "data = [scatter2014, scatter2015, scatter2016]\n",
    "\n",
    "layout = dict(title = 'Citations vs world ranking for the top 100 univeristies of year 2014, 2015 and 2016',\n",
    "             legend_title = 'Year', title_x = 0.5, title_font_size = 20,\n",
    "             xaxis=dict(title = 'World ranking', ticklen = 30),\n",
    "             yaxis = dict(title = \"Citations\", ticklen = 20))\n",
    "\n",
    "fig = go.Figure(data = data, layout = layout)\n",
    "fig.show(renderer='browser', auto_open=True)\n",
    "# fig.show()\n"
   ]
  }
 ],
 "metadata": {
  "interpreter": {
   "hash": "fcf1d46d271c46101d6967829d4a5f475342a2ce08e4944f989fbcdc9bb23690"
  },
  "kernelspec": {
   "display_name": "Python 3.9.0 64-bit",
   "language": "python",
   "name": "python3"
  },
  "language_info": {
   "codemirror_mode": {
    "name": "ipython",
    "version": 3
   },
   "file_extension": ".py",
   "mimetype": "text/x-python",
   "name": "python",
   "nbconvert_exporter": "python",
   "pygments_lexer": "ipython3",
   "version": "3.9.0"
  },
  "orig_nbformat": 4
 },
 "nbformat": 4,
 "nbformat_minor": 2
}
